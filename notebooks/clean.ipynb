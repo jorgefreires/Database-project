{
 "cells": [
  {
   "cell_type": "code",
   "execution_count": 11,
   "id": "6c0af737",
   "metadata": {},
   "outputs": [],
   "source": [
    "# Librerias y configuración\n",
    "\n",
    "import pandas as pd\n",
    "\n",
    "pd.set_option('display.max_columns', None)\n",
    "pd.set_option('display.max_rows', None)\n",
    "\n",
    "import warnings\n",
    "warnings.filterwarnings('ignore')"
   ]
  },
  {
   "cell_type": "code",
   "execution_count": 7,
   "id": "593e5258",
   "metadata": {},
   "outputs": [],
   "source": [
    "# DataFrames\n",
    "\n",
    "actor = pd.read_csv('../data/actor.csv')\n",
    "category = pd.read_csv('../data/category.csv')\n",
    "film = pd.read_csv('../data/film.csv')\n",
    "inventory = pd.read_csv('../data/inventory.csv')\n",
    "language = pd.read_csv('../data/language.csv')\n",
    "hdd = pd.read_csv('../data/old_HDD.csv')\n",
    "rental = pd.read_csv('../data/rental.csv')"
   ]
  },
  {
   "cell_type": "markdown",
   "id": "307b0ca4",
   "metadata": {},
   "source": [
    "# actor"
   ]
  },
  {
   "cell_type": "code",
   "execution_count": 8,
   "id": "34044b75",
   "metadata": {},
   "outputs": [
    {
     "data": {
      "text/html": [
       "<div>\n",
       "<style scoped>\n",
       "    .dataframe tbody tr th:only-of-type {\n",
       "        vertical-align: middle;\n",
       "    }\n",
       "\n",
       "    .dataframe tbody tr th {\n",
       "        vertical-align: top;\n",
       "    }\n",
       "\n",
       "    .dataframe thead th {\n",
       "        text-align: right;\n",
       "    }\n",
       "</style>\n",
       "<table border=\"1\" class=\"dataframe\">\n",
       "  <thead>\n",
       "    <tr style=\"text-align: right;\">\n",
       "      <th></th>\n",
       "      <th>actor_id</th>\n",
       "      <th>first_name</th>\n",
       "      <th>last_name</th>\n",
       "      <th>last_update</th>\n",
       "    </tr>\n",
       "  </thead>\n",
       "  <tbody>\n",
       "    <tr>\n",
       "      <th>0</th>\n",
       "      <td>1</td>\n",
       "      <td>PENELOPE</td>\n",
       "      <td>GUINESS</td>\n",
       "      <td>2006-02-15 04:34:33</td>\n",
       "    </tr>\n",
       "    <tr>\n",
       "      <th>1</th>\n",
       "      <td>2</td>\n",
       "      <td>NICK</td>\n",
       "      <td>WAHLBERG</td>\n",
       "      <td>2006-02-15 04:34:33</td>\n",
       "    </tr>\n",
       "    <tr>\n",
       "      <th>2</th>\n",
       "      <td>3</td>\n",
       "      <td>ED</td>\n",
       "      <td>CHASE</td>\n",
       "      <td>2006-02-15 04:34:33</td>\n",
       "    </tr>\n",
       "    <tr>\n",
       "      <th>3</th>\n",
       "      <td>4</td>\n",
       "      <td>JENNIFER</td>\n",
       "      <td>DAVIS</td>\n",
       "      <td>2006-02-15 04:34:33</td>\n",
       "    </tr>\n",
       "    <tr>\n",
       "      <th>4</th>\n",
       "      <td>5</td>\n",
       "      <td>JOHNNY</td>\n",
       "      <td>LOLLOBRIGIDA</td>\n",
       "      <td>2006-02-15 04:34:33</td>\n",
       "    </tr>\n",
       "  </tbody>\n",
       "</table>\n",
       "</div>"
      ],
      "text/plain": [
       "   actor_id first_name     last_name          last_update\n",
       "0         1   PENELOPE       GUINESS  2006-02-15 04:34:33\n",
       "1         2       NICK      WAHLBERG  2006-02-15 04:34:33\n",
       "2         3         ED         CHASE  2006-02-15 04:34:33\n",
       "3         4   JENNIFER         DAVIS  2006-02-15 04:34:33\n",
       "4         5     JOHNNY  LOLLOBRIGIDA  2006-02-15 04:34:33"
      ]
     },
     "execution_count": 8,
     "metadata": {},
     "output_type": "execute_result"
    }
   ],
   "source": [
    "actor.head()"
   ]
  },
  {
   "cell_type": "code",
   "execution_count": 9,
   "id": "3f550e40",
   "metadata": {},
   "outputs": [
    {
     "data": {
      "text/plain": [
       "(200, 4)"
      ]
     },
     "execution_count": 9,
     "metadata": {},
     "output_type": "execute_result"
    }
   ],
   "source": [
    "actor.shape"
   ]
  },
  {
   "cell_type": "code",
   "execution_count": 10,
   "id": "1ff39a51",
   "metadata": {},
   "outputs": [
    {
     "name": "stdout",
     "output_type": "stream",
     "text": [
      "<class 'pandas.core.frame.DataFrame'>\n",
      "RangeIndex: 200 entries, 0 to 199\n",
      "Data columns (total 4 columns):\n",
      " #   Column       Non-Null Count  Dtype \n",
      "---  ------       --------------  ----- \n",
      " 0   actor_id     200 non-null    int64 \n",
      " 1   first_name   200 non-null    object\n",
      " 2   last_name    200 non-null    object\n",
      " 3   last_update  200 non-null    object\n",
      "dtypes: int64(1), object(3)\n",
      "memory usage: 6.4+ KB\n"
     ]
    }
   ],
   "source": [
    "actor.info()"
   ]
  },
  {
   "cell_type": "code",
   "execution_count": 12,
   "id": "c299099a",
   "metadata": {},
   "outputs": [
    {
     "data": {
      "text/plain": [
       "array([  1,   2,   3,   4,   5,   6,   7,   8,   9,  10,  11,  12,  13,\n",
       "        14,  15,  16,  17,  18,  19,  20,  21,  22,  23,  24,  25,  26,\n",
       "        27,  28,  29,  30,  31,  32,  33,  34,  35,  36,  37,  38,  39,\n",
       "        40,  41,  42,  43,  44,  45,  46,  47,  48,  49,  50,  51,  52,\n",
       "        53,  54,  55,  56,  57,  58,  59,  60,  61,  62,  63,  64,  65,\n",
       "        66,  67,  68,  69,  70,  71,  72,  73,  74,  75,  76,  77,  78,\n",
       "        79,  80,  81,  82,  83,  84,  85,  86,  87,  88,  89,  90,  91,\n",
       "        92,  93,  94,  95,  96,  97,  98,  99, 100, 101, 102, 103, 104,\n",
       "       105, 106, 107, 108, 109, 110, 111, 112, 113, 114, 115, 116, 117,\n",
       "       118, 119, 120, 121, 122, 123, 124, 125, 126, 127, 128, 129, 130,\n",
       "       131, 132, 133, 134, 135, 136, 137, 138, 139, 140, 141, 142, 143,\n",
       "       144, 145, 146, 147, 148, 149, 150, 151, 152, 153, 154, 155, 156,\n",
       "       157, 158, 159, 160, 161, 162, 163, 164, 165, 166, 167, 168, 169,\n",
       "       170, 171, 172, 173, 174, 175, 176, 177, 178, 179, 180, 181, 182,\n",
       "       183, 184, 185, 186, 187, 188, 189, 190, 191, 192, 193, 194, 195,\n",
       "       196, 197, 198, 199, 200])"
      ]
     },
     "execution_count": 12,
     "metadata": {},
     "output_type": "execute_result"
    }
   ],
   "source": [
    "actor.actor_id.unique()"
   ]
  },
  {
   "cell_type": "code",
   "execution_count": 13,
   "id": "c41d9621",
   "metadata": {},
   "outputs": [
    {
     "data": {
      "text/plain": [
       "array(['PENELOPE', 'NICK', 'ED', 'JENNIFER', 'JOHNNY', 'BETTE', 'GRACE',\n",
       "       'MATTHEW', 'JOE', 'CHRISTIAN', 'ZERO', 'KARL', 'UMA', 'VIVIEN',\n",
       "       'CUBA', 'FRED', 'HELEN', 'DAN', 'BOB', 'LUCILLE', 'KIRSTEN',\n",
       "       'ELVIS', 'SANDRA', 'CAMERON', 'KEVIN', 'RIP', 'JULIA', 'WOODY',\n",
       "       'ALEC', 'SISSY', 'TIM', 'MILLA', 'AUDREY', 'JUDY', 'BURT', 'VAL',\n",
       "       'TOM', 'GOLDIE', 'JODIE', 'KIRK', 'REESE', 'PARKER', 'FRANCES',\n",
       "       'ANNE', 'NATALIE', 'GARY', 'CARMEN', 'MENA', 'FAY', 'JUDE',\n",
       "       'DUSTIN', 'HENRY', 'JAYNE', 'RAY', 'ANGELA', 'MARY', 'JESSICA',\n",
       "       'KENNETH', 'MICHELLE', 'ADAM', 'SEAN', 'ANGELINA', 'CARY',\n",
       "       'GROUCHO', 'MAE', 'RALPH', 'SCARLETT', 'BEN', 'JAMES', 'MINNIE',\n",
       "       'GREG', 'SPENCER', 'CHARLIZE', 'CHRISTOPHER', 'ELLEN', 'DARYL',\n",
       "       'GENE', 'MEG', 'CHRIS', 'JIM', 'SUSAN', 'WALTER', 'SIDNEY', 'GINA',\n",
       "       'WARREN', 'SYLVESTER', 'RUSSELL', 'MORGAN', 'HARRISON', 'RENEE',\n",
       "       'LIZA', 'SALMA', 'JULIANNE', 'ALBERT', 'CATE', 'GRETA', 'JANE',\n",
       "       'RICHARD', 'RITA', 'EWAN', 'WHOOPI', 'JADA', 'RIVER', 'KIM',\n",
       "       'EMILY', 'GEOFFREY', 'MERYL', 'IAN', 'LAURA', 'HARVEY', 'OPRAH',\n",
       "       'HUMPHREY', 'AL', 'LAURENCE', 'WILL', 'OLYMPIA', 'ALAN', 'MICHAEL',\n",
       "       'WILLIAM', 'JON', 'LISA', 'JEFF', 'DEBBIE', 'ROCK', 'GREGORY',\n",
       "       'JOHN', 'BELA', 'THORA'], dtype=object)"
      ]
     },
     "execution_count": 13,
     "metadata": {},
     "output_type": "execute_result"
    }
   ],
   "source": [
    "actor.first_name.unique()"
   ]
  },
  {
   "cell_type": "code",
   "execution_count": 14,
   "id": "2106082a",
   "metadata": {},
   "outputs": [
    {
     "data": {
      "text/plain": [
       "array(['GUINESS', 'WAHLBERG', 'CHASE', 'DAVIS', 'LOLLOBRIGIDA',\n",
       "       'NICHOLSON', 'MOSTEL', 'JOHANSSON', 'SWANK', 'GABLE', 'CAGE',\n",
       "       'BERRY', 'WOOD', 'BERGEN', 'OLIVIER', 'COSTNER', 'VOIGHT', 'TORN',\n",
       "       'FAWCETT', 'TRACY', 'PALTROW', 'MARX', 'KILMER', 'STREEP', 'BLOOM',\n",
       "       'CRAWFORD', 'MCQUEEN', 'HOFFMAN', 'WAYNE', 'PECK', 'SOBIESKI',\n",
       "       'HACKMAN', 'DEAN', 'DUKAKIS', 'BOLGER', 'MCKELLEN', 'BRODY',\n",
       "       'DEGENERES', 'MIRANDA', 'JOVOVICH', 'STALLONE', 'GOLDBERG',\n",
       "       'BARRYMORE', 'DAY-LEWIS', 'CRONYN', 'HOPKINS', 'PHOENIX', 'HUNT',\n",
       "       'TEMPLE', 'PINKETT', 'HARRIS', 'CRUISE', 'AKROYD', 'TAUTOU',\n",
       "       'NEESON', 'WRAY', 'HUDSON', 'TANDY', 'BAILEY', 'WINSLET',\n",
       "       'MCCONAUGHEY', 'GRANT', 'WILLIAMS', 'PENN', 'KEITEL', 'POSEY',\n",
       "       'ASTAIRE', 'SINATRA', 'CRUZ', 'DAMON', 'JOLIE', 'WILLIS', 'PITT',\n",
       "       'ZELLWEGER', 'CHAPLIN', 'PESCI', 'DENCH', 'PRESLEY', 'HAWKE',\n",
       "       'BRIDGES', 'DEPP', 'LEIGH', 'CROWE', 'DUNST', 'NOLTE', 'DERN',\n",
       "       'BACALL', 'MCDORMAND', 'BALE', 'ALLEN', 'JACKMAN', 'MONROE',\n",
       "       'BERGMAN', 'BENING', 'TOMEI', 'GARLAND', 'HOPPER', 'REYNOLDS',\n",
       "       'MANSFIELD', 'DEE', 'GOODING', 'HURT', 'RYDER', 'WITHERSPOON',\n",
       "       'HESTON', 'GIBSON', 'MALDEN', 'BASINGER', 'HOPE', 'WEST',\n",
       "       'BULLOCK', 'WILSON', 'PFEIFFER', 'DREYFUSS', 'SILVERSTONE',\n",
       "       'CARREY', 'CLOSE', 'BALL', 'BIRCH', 'SUVARI', 'WALKEN'],\n",
       "      dtype=object)"
      ]
     },
     "execution_count": 14,
     "metadata": {},
     "output_type": "execute_result"
    }
   ],
   "source": [
    "actor.last_name.unique()"
   ]
  },
  {
   "cell_type": "code",
   "execution_count": 17,
   "id": "73f9ec71",
   "metadata": {},
   "outputs": [
    {
     "data": {
      "text/plain": [
       "array(['2006-02-15 04:34:33'], dtype=object)"
      ]
     },
     "execution_count": 17,
     "metadata": {},
     "output_type": "execute_result"
    }
   ],
   "source": [
    "actor.last_update.unique()"
   ]
  },
  {
   "cell_type": "code",
   "execution_count": 22,
   "id": "16e04b1f",
   "metadata": {},
   "outputs": [],
   "source": [
    "# Se borra la columna last_update por que no otorga ninguna información relevante\n",
    "\n",
    "actor.drop('last_update', axis = 1, inplace=True)   "
   ]
  },
  {
   "cell_type": "code",
   "execution_count": 24,
   "id": "b7eb4c45",
   "metadata": {},
   "outputs": [
    {
     "data": {
      "text/html": [
       "<div>\n",
       "<style scoped>\n",
       "    .dataframe tbody tr th:only-of-type {\n",
       "        vertical-align: middle;\n",
       "    }\n",
       "\n",
       "    .dataframe tbody tr th {\n",
       "        vertical-align: top;\n",
       "    }\n",
       "\n",
       "    .dataframe thead th {\n",
       "        text-align: right;\n",
       "    }\n",
       "</style>\n",
       "<table border=\"1\" class=\"dataframe\">\n",
       "  <thead>\n",
       "    <tr style=\"text-align: right;\">\n",
       "      <th></th>\n",
       "      <th>actor_id</th>\n",
       "      <th>first_name</th>\n",
       "      <th>last_name</th>\n",
       "    </tr>\n",
       "  </thead>\n",
       "  <tbody>\n",
       "    <tr>\n",
       "      <th>0</th>\n",
       "      <td>1</td>\n",
       "      <td>PENELOPE</td>\n",
       "      <td>GUINESS</td>\n",
       "    </tr>\n",
       "    <tr>\n",
       "      <th>1</th>\n",
       "      <td>2</td>\n",
       "      <td>NICK</td>\n",
       "      <td>WAHLBERG</td>\n",
       "    </tr>\n",
       "    <tr>\n",
       "      <th>2</th>\n",
       "      <td>3</td>\n",
       "      <td>ED</td>\n",
       "      <td>CHASE</td>\n",
       "    </tr>\n",
       "    <tr>\n",
       "      <th>3</th>\n",
       "      <td>4</td>\n",
       "      <td>JENNIFER</td>\n",
       "      <td>DAVIS</td>\n",
       "    </tr>\n",
       "    <tr>\n",
       "      <th>4</th>\n",
       "      <td>5</td>\n",
       "      <td>JOHNNY</td>\n",
       "      <td>LOLLOBRIGIDA</td>\n",
       "    </tr>\n",
       "  </tbody>\n",
       "</table>\n",
       "</div>"
      ],
      "text/plain": [
       "   actor_id first_name     last_name\n",
       "0         1   PENELOPE       GUINESS\n",
       "1         2       NICK      WAHLBERG\n",
       "2         3         ED         CHASE\n",
       "3         4   JENNIFER         DAVIS\n",
       "4         5     JOHNNY  LOLLOBRIGIDA"
      ]
     },
     "execution_count": 24,
     "metadata": {},
     "output_type": "execute_result"
    }
   ],
   "source": [
    "actor.head()"
   ]
  },
  {
   "cell_type": "code",
   "execution_count": 42,
   "id": "08f45b74",
   "metadata": {},
   "outputs": [],
   "source": [
    "actor.to_csv('../data/actor.csv')"
   ]
  },
  {
   "cell_type": "markdown",
   "id": "4388ea4d",
   "metadata": {},
   "source": [
    "# category"
   ]
  },
  {
   "cell_type": "code",
   "execution_count": 30,
   "id": "384ed2f7",
   "metadata": {},
   "outputs": [
    {
     "data": {
      "text/html": [
       "<div>\n",
       "<style scoped>\n",
       "    .dataframe tbody tr th:only-of-type {\n",
       "        vertical-align: middle;\n",
       "    }\n",
       "\n",
       "    .dataframe tbody tr th {\n",
       "        vertical-align: top;\n",
       "    }\n",
       "\n",
       "    .dataframe thead th {\n",
       "        text-align: right;\n",
       "    }\n",
       "</style>\n",
       "<table border=\"1\" class=\"dataframe\">\n",
       "  <thead>\n",
       "    <tr style=\"text-align: right;\">\n",
       "      <th></th>\n",
       "      <th>category_id</th>\n",
       "      <th>name</th>\n",
       "      <th>last_update</th>\n",
       "    </tr>\n",
       "  </thead>\n",
       "  <tbody>\n",
       "    <tr>\n",
       "      <th>0</th>\n",
       "      <td>1</td>\n",
       "      <td>Action</td>\n",
       "      <td>2006-02-15 04:46:27</td>\n",
       "    </tr>\n",
       "    <tr>\n",
       "      <th>1</th>\n",
       "      <td>2</td>\n",
       "      <td>Animation</td>\n",
       "      <td>2006-02-15 04:46:27</td>\n",
       "    </tr>\n",
       "    <tr>\n",
       "      <th>2</th>\n",
       "      <td>3</td>\n",
       "      <td>Children</td>\n",
       "      <td>2006-02-15 04:46:27</td>\n",
       "    </tr>\n",
       "    <tr>\n",
       "      <th>3</th>\n",
       "      <td>4</td>\n",
       "      <td>Classics</td>\n",
       "      <td>2006-02-15 04:46:27</td>\n",
       "    </tr>\n",
       "    <tr>\n",
       "      <th>4</th>\n",
       "      <td>5</td>\n",
       "      <td>Comedy</td>\n",
       "      <td>2006-02-15 04:46:27</td>\n",
       "    </tr>\n",
       "  </tbody>\n",
       "</table>\n",
       "</div>"
      ],
      "text/plain": [
       "   category_id       name          last_update\n",
       "0            1     Action  2006-02-15 04:46:27\n",
       "1            2  Animation  2006-02-15 04:46:27\n",
       "2            3   Children  2006-02-15 04:46:27\n",
       "3            4   Classics  2006-02-15 04:46:27\n",
       "4            5     Comedy  2006-02-15 04:46:27"
      ]
     },
     "execution_count": 30,
     "metadata": {},
     "output_type": "execute_result"
    }
   ],
   "source": [
    "category.head()"
   ]
  },
  {
   "cell_type": "code",
   "execution_count": 32,
   "id": "6a45b675",
   "metadata": {},
   "outputs": [
    {
     "data": {
      "text/plain": [
       "(16, 3)"
      ]
     },
     "execution_count": 32,
     "metadata": {},
     "output_type": "execute_result"
    }
   ],
   "source": [
    "category.shape"
   ]
  },
  {
   "cell_type": "code",
   "execution_count": 34,
   "id": "6b59ea49",
   "metadata": {},
   "outputs": [
    {
     "name": "stdout",
     "output_type": "stream",
     "text": [
      "<class 'pandas.core.frame.DataFrame'>\n",
      "RangeIndex: 16 entries, 0 to 15\n",
      "Data columns (total 3 columns):\n",
      " #   Column       Non-Null Count  Dtype \n",
      "---  ------       --------------  ----- \n",
      " 0   category_id  16 non-null     int64 \n",
      " 1   name         16 non-null     object\n",
      " 2   last_update  16 non-null     object\n",
      "dtypes: int64(1), object(2)\n",
      "memory usage: 512.0+ bytes\n"
     ]
    }
   ],
   "source": [
    "category.info()"
   ]
  },
  {
   "cell_type": "code",
   "execution_count": 31,
   "id": "512213f3",
   "metadata": {},
   "outputs": [
    {
     "data": {
      "text/plain": [
       "array([ 1,  2,  3,  4,  5,  6,  7,  8,  9, 10, 11, 12, 13, 14, 15, 16])"
      ]
     },
     "execution_count": 31,
     "metadata": {},
     "output_type": "execute_result"
    }
   ],
   "source": [
    "category.category_id.unique()"
   ]
  },
  {
   "cell_type": "code",
   "execution_count": 35,
   "id": "817a34c8",
   "metadata": {},
   "outputs": [
    {
     "data": {
      "text/plain": [
       "array(['Action', 'Animation', 'Children', 'Classics', 'Comedy',\n",
       "       'Documentary', 'Drama', 'Family', 'Foreign', 'Games', 'Horror',\n",
       "       'Music', 'New', 'Sci-Fi', 'Sports', 'Travel'], dtype=object)"
      ]
     },
     "execution_count": 35,
     "metadata": {},
     "output_type": "execute_result"
    }
   ],
   "source": [
    "category.name.unique()"
   ]
  },
  {
   "cell_type": "code",
   "execution_count": 36,
   "id": "de331e6b",
   "metadata": {},
   "outputs": [
    {
     "data": {
      "text/plain": [
       "array(['2006-02-15 04:46:27'], dtype=object)"
      ]
     },
     "execution_count": 36,
     "metadata": {},
     "output_type": "execute_result"
    }
   ],
   "source": [
    "category.last_update.unique()"
   ]
  },
  {
   "cell_type": "code",
   "execution_count": 37,
   "id": "3e16762f",
   "metadata": {},
   "outputs": [],
   "source": [
    "# Se borra la columna last_update por que no otorga ninguna información relevante\n",
    "\n",
    "category.drop('last_update', axis = 1, inplace=True)   "
   ]
  },
  {
   "cell_type": "code",
   "execution_count": 38,
   "id": "bdd3b848",
   "metadata": {},
   "outputs": [
    {
     "data": {
      "text/html": [
       "<div>\n",
       "<style scoped>\n",
       "    .dataframe tbody tr th:only-of-type {\n",
       "        vertical-align: middle;\n",
       "    }\n",
       "\n",
       "    .dataframe tbody tr th {\n",
       "        vertical-align: top;\n",
       "    }\n",
       "\n",
       "    .dataframe thead th {\n",
       "        text-align: right;\n",
       "    }\n",
       "</style>\n",
       "<table border=\"1\" class=\"dataframe\">\n",
       "  <thead>\n",
       "    <tr style=\"text-align: right;\">\n",
       "      <th></th>\n",
       "      <th>category_id</th>\n",
       "      <th>name</th>\n",
       "    </tr>\n",
       "  </thead>\n",
       "  <tbody>\n",
       "    <tr>\n",
       "      <th>0</th>\n",
       "      <td>1</td>\n",
       "      <td>Action</td>\n",
       "    </tr>\n",
       "    <tr>\n",
       "      <th>1</th>\n",
       "      <td>2</td>\n",
       "      <td>Animation</td>\n",
       "    </tr>\n",
       "    <tr>\n",
       "      <th>2</th>\n",
       "      <td>3</td>\n",
       "      <td>Children</td>\n",
       "    </tr>\n",
       "    <tr>\n",
       "      <th>3</th>\n",
       "      <td>4</td>\n",
       "      <td>Classics</td>\n",
       "    </tr>\n",
       "    <tr>\n",
       "      <th>4</th>\n",
       "      <td>5</td>\n",
       "      <td>Comedy</td>\n",
       "    </tr>\n",
       "  </tbody>\n",
       "</table>\n",
       "</div>"
      ],
      "text/plain": [
       "   category_id       name\n",
       "0            1     Action\n",
       "1            2  Animation\n",
       "2            3   Children\n",
       "3            4   Classics\n",
       "4            5     Comedy"
      ]
     },
     "execution_count": 38,
     "metadata": {},
     "output_type": "execute_result"
    }
   ],
   "source": [
    "category.head()"
   ]
  },
  {
   "cell_type": "code",
   "execution_count": 43,
   "id": "c442e087",
   "metadata": {},
   "outputs": [],
   "source": [
    "category.to_csv('../data/category.csv')"
   ]
  },
  {
   "cell_type": "markdown",
   "id": "9bc1b927",
   "metadata": {},
   "source": [
    "# film"
   ]
  },
  {
   "cell_type": "code",
   "execution_count": 39,
   "id": "021c52e9",
   "metadata": {},
   "outputs": [
    {
     "data": {
      "text/html": [
       "<div>\n",
       "<style scoped>\n",
       "    .dataframe tbody tr th:only-of-type {\n",
       "        vertical-align: middle;\n",
       "    }\n",
       "\n",
       "    .dataframe tbody tr th {\n",
       "        vertical-align: top;\n",
       "    }\n",
       "\n",
       "    .dataframe thead th {\n",
       "        text-align: right;\n",
       "    }\n",
       "</style>\n",
       "<table border=\"1\" class=\"dataframe\">\n",
       "  <thead>\n",
       "    <tr style=\"text-align: right;\">\n",
       "      <th></th>\n",
       "      <th>film_id</th>\n",
       "      <th>title</th>\n",
       "      <th>description</th>\n",
       "      <th>release_year</th>\n",
       "      <th>language_id</th>\n",
       "      <th>original_language_id</th>\n",
       "      <th>rental_duration</th>\n",
       "      <th>rental_rate</th>\n",
       "      <th>length</th>\n",
       "      <th>replacement_cost</th>\n",
       "      <th>rating</th>\n",
       "      <th>special_features</th>\n",
       "      <th>last_update</th>\n",
       "    </tr>\n",
       "  </thead>\n",
       "  <tbody>\n",
       "    <tr>\n",
       "      <th>0</th>\n",
       "      <td>1</td>\n",
       "      <td>ACADEMY DINOSAUR</td>\n",
       "      <td>A Epic Drama of a Feminist And a Mad Scientist...</td>\n",
       "      <td>2006</td>\n",
       "      <td>1</td>\n",
       "      <td>NaN</td>\n",
       "      <td>6</td>\n",
       "      <td>0.99</td>\n",
       "      <td>86</td>\n",
       "      <td>20.99</td>\n",
       "      <td>PG</td>\n",
       "      <td>Deleted Scenes,Behind the Scenes</td>\n",
       "      <td>2006-02-15 05:03:42</td>\n",
       "    </tr>\n",
       "    <tr>\n",
       "      <th>1</th>\n",
       "      <td>2</td>\n",
       "      <td>ACE GOLDFINGER</td>\n",
       "      <td>A Astounding Epistle of a Database Administrat...</td>\n",
       "      <td>2006</td>\n",
       "      <td>1</td>\n",
       "      <td>NaN</td>\n",
       "      <td>3</td>\n",
       "      <td>4.99</td>\n",
       "      <td>48</td>\n",
       "      <td>12.99</td>\n",
       "      <td>G</td>\n",
       "      <td>Trailers,Deleted Scenes</td>\n",
       "      <td>2006-02-15 05:03:42</td>\n",
       "    </tr>\n",
       "    <tr>\n",
       "      <th>2</th>\n",
       "      <td>3</td>\n",
       "      <td>ADAPTATION HOLES</td>\n",
       "      <td>A Astounding Reflection of a Lumberjack And a ...</td>\n",
       "      <td>2006</td>\n",
       "      <td>1</td>\n",
       "      <td>NaN</td>\n",
       "      <td>7</td>\n",
       "      <td>2.99</td>\n",
       "      <td>50</td>\n",
       "      <td>18.99</td>\n",
       "      <td>NC-17</td>\n",
       "      <td>Trailers,Deleted Scenes</td>\n",
       "      <td>2006-02-15 05:03:42</td>\n",
       "    </tr>\n",
       "    <tr>\n",
       "      <th>3</th>\n",
       "      <td>4</td>\n",
       "      <td>AFFAIR PREJUDICE</td>\n",
       "      <td>A Fanciful Documentary of a Frisbee And a Lumb...</td>\n",
       "      <td>2006</td>\n",
       "      <td>1</td>\n",
       "      <td>NaN</td>\n",
       "      <td>5</td>\n",
       "      <td>2.99</td>\n",
       "      <td>117</td>\n",
       "      <td>26.99</td>\n",
       "      <td>G</td>\n",
       "      <td>Commentaries,Behind the Scenes</td>\n",
       "      <td>2006-02-15 05:03:42</td>\n",
       "    </tr>\n",
       "    <tr>\n",
       "      <th>4</th>\n",
       "      <td>5</td>\n",
       "      <td>AFRICAN EGG</td>\n",
       "      <td>A Fast-Paced Documentary of a Pastry Chef And ...</td>\n",
       "      <td>2006</td>\n",
       "      <td>1</td>\n",
       "      <td>NaN</td>\n",
       "      <td>6</td>\n",
       "      <td>2.99</td>\n",
       "      <td>130</td>\n",
       "      <td>22.99</td>\n",
       "      <td>G</td>\n",
       "      <td>Deleted Scenes</td>\n",
       "      <td>2006-02-15 05:03:42</td>\n",
       "    </tr>\n",
       "  </tbody>\n",
       "</table>\n",
       "</div>"
      ],
      "text/plain": [
       "   film_id             title  \\\n",
       "0        1  ACADEMY DINOSAUR   \n",
       "1        2    ACE GOLDFINGER   \n",
       "2        3  ADAPTATION HOLES   \n",
       "3        4  AFFAIR PREJUDICE   \n",
       "4        5       AFRICAN EGG   \n",
       "\n",
       "                                         description  release_year  \\\n",
       "0  A Epic Drama of a Feminist And a Mad Scientist...          2006   \n",
       "1  A Astounding Epistle of a Database Administrat...          2006   \n",
       "2  A Astounding Reflection of a Lumberjack And a ...          2006   \n",
       "3  A Fanciful Documentary of a Frisbee And a Lumb...          2006   \n",
       "4  A Fast-Paced Documentary of a Pastry Chef And ...          2006   \n",
       "\n",
       "   language_id  original_language_id  rental_duration  rental_rate  length  \\\n",
       "0            1                   NaN                6         0.99      86   \n",
       "1            1                   NaN                3         4.99      48   \n",
       "2            1                   NaN                7         2.99      50   \n",
       "3            1                   NaN                5         2.99     117   \n",
       "4            1                   NaN                6         2.99     130   \n",
       "\n",
       "   replacement_cost rating                  special_features  \\\n",
       "0             20.99     PG  Deleted Scenes,Behind the Scenes   \n",
       "1             12.99      G           Trailers,Deleted Scenes   \n",
       "2             18.99  NC-17           Trailers,Deleted Scenes   \n",
       "3             26.99      G    Commentaries,Behind the Scenes   \n",
       "4             22.99      G                    Deleted Scenes   \n",
       "\n",
       "           last_update  \n",
       "0  2006-02-15 05:03:42  \n",
       "1  2006-02-15 05:03:42  \n",
       "2  2006-02-15 05:03:42  \n",
       "3  2006-02-15 05:03:42  \n",
       "4  2006-02-15 05:03:42  "
      ]
     },
     "execution_count": 39,
     "metadata": {},
     "output_type": "execute_result"
    }
   ],
   "source": [
    "film.head()"
   ]
  },
  {
   "cell_type": "code",
   "execution_count": 40,
   "id": "22238fc6",
   "metadata": {},
   "outputs": [
    {
     "data": {
      "text/plain": [
       "(1000, 13)"
      ]
     },
     "execution_count": 40,
     "metadata": {},
     "output_type": "execute_result"
    }
   ],
   "source": [
    "film.shape"
   ]
  },
  {
   "cell_type": "code",
   "execution_count": 44,
   "id": "5c4122b5",
   "metadata": {},
   "outputs": [
    {
     "name": "stdout",
     "output_type": "stream",
     "text": [
      "<class 'pandas.core.frame.DataFrame'>\n",
      "RangeIndex: 1000 entries, 0 to 999\n",
      "Data columns (total 13 columns):\n",
      " #   Column                Non-Null Count  Dtype  \n",
      "---  ------                --------------  -----  \n",
      " 0   film_id               1000 non-null   int64  \n",
      " 1   title                 1000 non-null   object \n",
      " 2   description           1000 non-null   object \n",
      " 3   release_year          1000 non-null   int64  \n",
      " 4   language_id           1000 non-null   int64  \n",
      " 5   original_language_id  0 non-null      float64\n",
      " 6   rental_duration       1000 non-null   int64  \n",
      " 7   rental_rate           1000 non-null   float64\n",
      " 8   length                1000 non-null   int64  \n",
      " 9   replacement_cost      1000 non-null   float64\n",
      " 10  rating                1000 non-null   object \n",
      " 11  special_features      1000 non-null   object \n",
      " 12  last_update           1000 non-null   object \n",
      "dtypes: float64(3), int64(5), object(5)\n",
      "memory usage: 101.7+ KB\n"
     ]
    }
   ],
   "source": [
    "film.info()"
   ]
  },
  {
   "cell_type": "code",
   "execution_count": null,
   "id": "677b7604",
   "metadata": {},
   "outputs": [],
   "source": [
    "# Se borra la columna original_language_id por ser 100% nula\n",
    "\n",
    "film.drop('original_language_id', axis = 1, inplace=True)   "
   ]
  },
  {
   "cell_type": "code",
   "execution_count": 46,
   "id": "4c5bf627",
   "metadata": {},
   "outputs": [
    {
     "data": {
      "text/plain": [
       "array([   1,    2,    3,    4,    5,    6,    7,    8,    9,   10,   11,\n",
       "         12,   13,   14,   15,   16,   17,   18,   19,   20,   21,   22,\n",
       "         23,   24,   25,   26,   27,   28,   29,   30,   31,   32,   33,\n",
       "         34,   35,   36,   37,   38,   39,   40,   41,   42,   43,   44,\n",
       "         45,   46,   47,   48,   49,   50,   51,   52,   53,   54,   55,\n",
       "         56,   57,   58,   59,   60,   61,   62,   63,   64,   65,   66,\n",
       "         67,   68,   69,   70,   71,   72,   73,   74,   75,   76,   77,\n",
       "         78,   79,   80,   81,   82,   83,   84,   85,   86,   87,   88,\n",
       "         89,   90,   91,   92,   93,   94,   95,   96,   97,   98,   99,\n",
       "        100,  101,  102,  103,  104,  105,  106,  107,  108,  109,  110,\n",
       "        111,  112,  113,  114,  115,  116,  117,  118,  119,  120,  121,\n",
       "        122,  123,  124,  125,  126,  127,  128,  129,  130,  131,  132,\n",
       "        133,  134,  135,  136,  137,  138,  139,  140,  141,  142,  143,\n",
       "        144,  145,  146,  147,  148,  149,  150,  151,  152,  153,  154,\n",
       "        155,  156,  157,  158,  159,  160,  161,  162,  163,  164,  165,\n",
       "        166,  167,  168,  169,  170,  171,  172,  173,  174,  175,  176,\n",
       "        177,  178,  179,  180,  181,  182,  183,  184,  185,  186,  187,\n",
       "        188,  189,  190,  191,  192,  193,  194,  195,  196,  197,  198,\n",
       "        199,  200,  201,  202,  203,  204,  205,  206,  207,  208,  209,\n",
       "        210,  211,  212,  213,  214,  215,  216,  217,  218,  219,  220,\n",
       "        221,  222,  223,  224,  225,  226,  227,  228,  229,  230,  231,\n",
       "        232,  233,  234,  235,  236,  237,  238,  239,  240,  241,  242,\n",
       "        243,  244,  245,  246,  247,  248,  249,  250,  251,  252,  253,\n",
       "        254,  255,  256,  257,  258,  259,  260,  261,  262,  263,  264,\n",
       "        265,  266,  267,  268,  269,  270,  271,  272,  273,  274,  275,\n",
       "        276,  277,  278,  279,  280,  281,  282,  283,  284,  285,  286,\n",
       "        287,  288,  289,  290,  291,  292,  293,  294,  295,  296,  297,\n",
       "        298,  299,  300,  301,  302,  303,  304,  305,  306,  307,  308,\n",
       "        309,  310,  311,  312,  313,  314,  315,  316,  317,  318,  319,\n",
       "        320,  321,  322,  323,  324,  325,  326,  327,  328,  329,  330,\n",
       "        331,  332,  333,  334,  335,  336,  337,  338,  339,  340,  341,\n",
       "        342,  343,  344,  345,  346,  347,  348,  349,  350,  351,  352,\n",
       "        353,  354,  355,  356,  357,  358,  359,  360,  361,  362,  363,\n",
       "        364,  365,  366,  367,  368,  369,  370,  371,  372,  373,  374,\n",
       "        375,  376,  377,  378,  379,  380,  381,  382,  383,  384,  385,\n",
       "        386,  387,  388,  389,  390,  391,  392,  393,  394,  395,  396,\n",
       "        397,  398,  399,  400,  401,  402,  403,  404,  405,  406,  407,\n",
       "        408,  409,  410,  411,  412,  413,  414,  415,  416,  417,  418,\n",
       "        419,  420,  421,  422,  423,  424,  425,  426,  427,  428,  429,\n",
       "        430,  431,  432,  433,  434,  435,  436,  437,  438,  439,  440,\n",
       "        441,  442,  443,  444,  445,  446,  447,  448,  449,  450,  451,\n",
       "        452,  453,  454,  455,  456,  457,  458,  459,  460,  461,  462,\n",
       "        463,  464,  465,  466,  467,  468,  469,  470,  471,  472,  473,\n",
       "        474,  475,  476,  477,  478,  479,  480,  481,  482,  483,  484,\n",
       "        485,  486,  487,  488,  489,  490,  491,  492,  493,  494,  495,\n",
       "        496,  497,  498,  499,  500,  501,  502,  503,  504,  505,  506,\n",
       "        507,  508,  509,  510,  511,  512,  513,  514,  515,  516,  517,\n",
       "        518,  519,  520,  521,  522,  523,  524,  525,  526,  527,  528,\n",
       "        529,  530,  531,  532,  533,  534,  535,  536,  537,  538,  539,\n",
       "        540,  541,  542,  543,  544,  545,  546,  547,  548,  549,  550,\n",
       "        551,  552,  553,  554,  555,  556,  557,  558,  559,  560,  561,\n",
       "        562,  563,  564,  565,  566,  567,  568,  569,  570,  571,  572,\n",
       "        573,  574,  575,  576,  577,  578,  579,  580,  581,  582,  583,\n",
       "        584,  585,  586,  587,  588,  589,  590,  591,  592,  593,  594,\n",
       "        595,  596,  597,  598,  599,  600,  601,  602,  603,  604,  605,\n",
       "        606,  607,  608,  609,  610,  611,  612,  613,  614,  615,  616,\n",
       "        617,  618,  619,  620,  621,  622,  623,  624,  625,  626,  627,\n",
       "        628,  629,  630,  631,  632,  633,  634,  635,  636,  637,  638,\n",
       "        639,  640,  641,  642,  643,  644,  645,  646,  647,  648,  649,\n",
       "        650,  651,  652,  653,  654,  655,  656,  657,  658,  659,  660,\n",
       "        661,  662,  663,  664,  665,  666,  667,  668,  669,  670,  671,\n",
       "        672,  673,  674,  675,  676,  677,  678,  679,  680,  681,  682,\n",
       "        683,  684,  685,  686,  687,  688,  689,  690,  691,  692,  693,\n",
       "        694,  695,  696,  697,  698,  699,  700,  701,  702,  703,  704,\n",
       "        705,  706,  707,  708,  709,  710,  711,  712,  713,  714,  715,\n",
       "        716,  717,  718,  719,  720,  721,  722,  723,  724,  725,  726,\n",
       "        727,  728,  729,  730,  731,  732,  733,  734,  735,  736,  737,\n",
       "        738,  739,  740,  741,  742,  743,  744,  745,  746,  747,  748,\n",
       "        749,  750,  751,  752,  753,  754,  755,  756,  757,  758,  759,\n",
       "        760,  761,  762,  763,  764,  765,  766,  767,  768,  769,  770,\n",
       "        771,  772,  773,  774,  775,  776,  777,  778,  779,  780,  781,\n",
       "        782,  783,  784,  785,  786,  787,  788,  789,  790,  791,  792,\n",
       "        793,  794,  795,  796,  797,  798,  799,  800,  801,  802,  803,\n",
       "        804,  805,  806,  807,  808,  809,  810,  811,  812,  813,  814,\n",
       "        815,  816,  817,  818,  819,  820,  821,  822,  823,  824,  825,\n",
       "        826,  827,  828,  829,  830,  831,  832,  833,  834,  835,  836,\n",
       "        837,  838,  839,  840,  841,  842,  843,  844,  845,  846,  847,\n",
       "        848,  849,  850,  851,  852,  853,  854,  855,  856,  857,  858,\n",
       "        859,  860,  861,  862,  863,  864,  865,  866,  867,  868,  869,\n",
       "        870,  871,  872,  873,  874,  875,  876,  877,  878,  879,  880,\n",
       "        881,  882,  883,  884,  885,  886,  887,  888,  889,  890,  891,\n",
       "        892,  893,  894,  895,  896,  897,  898,  899,  900,  901,  902,\n",
       "        903,  904,  905,  906,  907,  908,  909,  910,  911,  912,  913,\n",
       "        914,  915,  916,  917,  918,  919,  920,  921,  922,  923,  924,\n",
       "        925,  926,  927,  928,  929,  930,  931,  932,  933,  934,  935,\n",
       "        936,  937,  938,  939,  940,  941,  942,  943,  944,  945,  946,\n",
       "        947,  948,  949,  950,  951,  952,  953,  954,  955,  956,  957,\n",
       "        958,  959,  960,  961,  962,  963,  964,  965,  966,  967,  968,\n",
       "        969,  970,  971,  972,  973,  974,  975,  976,  977,  978,  979,\n",
       "        980,  981,  982,  983,  984,  985,  986,  987,  988,  989,  990,\n",
       "        991,  992,  993,  994,  995,  996,  997,  998,  999, 1000])"
      ]
     },
     "execution_count": 46,
     "metadata": {},
     "output_type": "execute_result"
    }
   ],
   "source": [
    "film.film_id.unique()"
   ]
  },
  {
   "cell_type": "code",
   "execution_count": 50,
   "id": "faa9ab33",
   "metadata": {},
   "outputs": [],
   "source": [
    "# film.title.unique() Se comenta puesto que ocupan mucho lugar en la pantalla, están limpios"
   ]
  },
  {
   "cell_type": "code",
   "execution_count": 52,
   "id": "d649ad04",
   "metadata": {},
   "outputs": [],
   "source": [
    "# film.description.unique() Se comenta puesto que ocupan mucho lugar en la pantalla, están limpios"
   ]
  },
  {
   "cell_type": "code",
   "execution_count": 54,
   "id": "c0153516",
   "metadata": {},
   "outputs": [
    {
     "data": {
      "text/plain": [
       "array([2006])"
      ]
     },
     "execution_count": 54,
     "metadata": {},
     "output_type": "execute_result"
    }
   ],
   "source": [
    "film.release_year.unique()"
   ]
  },
  {
   "cell_type": "code",
   "execution_count": 57,
   "id": "68017cdd",
   "metadata": {},
   "outputs": [
    {
     "data": {
      "text/plain": [
       "array([1])"
      ]
     },
     "execution_count": 57,
     "metadata": {},
     "output_type": "execute_result"
    }
   ],
   "source": [
    "film.language_id .unique()"
   ]
  },
  {
   "cell_type": "code",
   "execution_count": 59,
   "id": "f7778982",
   "metadata": {},
   "outputs": [
    {
     "data": {
      "text/plain": [
       "array([6, 3, 7, 5, 4])"
      ]
     },
     "execution_count": 59,
     "metadata": {},
     "output_type": "execute_result"
    }
   ],
   "source": [
    "film.rental_duration.unique()   # Se entiende que son días"
   ]
  },
  {
   "cell_type": "code",
   "execution_count": 60,
   "id": "b73ba250",
   "metadata": {},
   "outputs": [
    {
     "data": {
      "text/plain": [
       "array([0.99, 4.99, 2.99])"
      ]
     },
     "execution_count": 60,
     "metadata": {},
     "output_type": "execute_result"
    }
   ],
   "source": [
    "film.rental_rate.unique()     "
   ]
  },
  {
   "cell_type": "code",
   "execution_count": 61,
   "id": "26236568",
   "metadata": {},
   "outputs": [
    {
     "data": {
      "text/plain": [
       "array([ 86,  48,  50, 117, 130, 169,  62,  54, 114,  63, 126, 136, 150,\n",
       "        94,  46, 180,  82,  57, 113,  79, 129,  85,  92, 181,  74, 179,\n",
       "        91, 168, 119, 153, 147, 127, 121,  68,  99, 148, 137, 170,  83,\n",
       "       108, 118, 162, 182,  75, 173,  87,  65,  90, 122, 160,  89, 175,\n",
       "       106,  73, 151, 100,  53,  77, 142,  93, 163, 103,  61,  71, 102,\n",
       "        76,  98,  72, 176, 123,  56, 161,  60, 133, 125,  67,  52, 120,\n",
       "       167,  70, 135, 112, 183, 110, 152,  51, 146,  66, 185, 124, 107,\n",
       "       101, 132, 143, 165,  81, 164,  58,  95, 139,  55, 149, 109,  59,\n",
       "       172, 115, 184, 166,  64, 104,  69,  84, 144,  88, 141,  47,  49,\n",
       "       177, 154, 159, 178,  96, 116, 171, 140, 155, 158, 174, 138,  97,\n",
       "       131, 156,  80, 145, 111, 128, 157,  78, 105, 134])"
      ]
     },
     "execution_count": 61,
     "metadata": {},
     "output_type": "execute_result"
    }
   ],
   "source": [
    "film.length.unique()     "
   ]
  },
  {
   "cell_type": "code",
   "execution_count": 62,
   "id": "c2ab7966",
   "metadata": {},
   "outputs": [
    {
     "data": {
      "text/plain": [
       "array([20.99, 12.99, 18.99, 26.99, 22.99, 17.99, 28.99, 15.99, 21.99,\n",
       "       24.99, 16.99, 23.99, 10.99, 14.99, 27.99,  9.99, 19.99, 11.99,\n",
       "       29.99, 25.99, 13.99])"
      ]
     },
     "execution_count": 62,
     "metadata": {},
     "output_type": "execute_result"
    }
   ],
   "source": [
    "film.replacement_cost.unique()   "
   ]
  },
  {
   "cell_type": "code",
   "execution_count": 65,
   "id": "d338ed46",
   "metadata": {},
   "outputs": [
    {
     "data": {
      "text/plain": [
       "array(['PG', 'G', 'NC-17', 'PG-13', 'R'], dtype=object)"
      ]
     },
     "execution_count": 65,
     "metadata": {},
     "output_type": "execute_result"
    }
   ],
   "source": [
    "film.rating.unique()   "
   ]
  },
  {
   "cell_type": "code",
   "execution_count": 66,
   "id": "0cd33442",
   "metadata": {},
   "outputs": [
    {
     "data": {
      "text/plain": [
       "array(['Deleted Scenes,Behind the Scenes', 'Trailers,Deleted Scenes',\n",
       "       'Commentaries,Behind the Scenes', 'Deleted Scenes', 'Trailers',\n",
       "       'Commentaries,Deleted Scenes',\n",
       "       'Trailers,Deleted Scenes,Behind the Scenes',\n",
       "       'Trailers,Commentaries,Behind the Scenes', 'Trailers,Commentaries',\n",
       "       'Trailers,Behind the Scenes',\n",
       "       'Commentaries,Deleted Scenes,Behind the Scenes',\n",
       "       'Trailers,Commentaries,Deleted Scenes',\n",
       "       'Trailers,Commentaries,Deleted Scenes,Behind the Scenes',\n",
       "       'Behind the Scenes', 'Commentaries'], dtype=object)"
      ]
     },
     "execution_count": 66,
     "metadata": {},
     "output_type": "execute_result"
    }
   ],
   "source": [
    "film.special_features.unique()"
   ]
  },
  {
   "cell_type": "code",
   "execution_count": 67,
   "id": "59c11905",
   "metadata": {},
   "outputs": [],
   "source": [
    "film.special_features = film.special_features.str.replace(',', ', ')   # Para que quede más visualmente atractivo"
   ]
  },
  {
   "cell_type": "code",
   "execution_count": 68,
   "id": "0a8b1993",
   "metadata": {},
   "outputs": [
    {
     "data": {
      "text/plain": [
       "array(['Deleted Scenes, Behind the Scenes', 'Trailers, Deleted Scenes',\n",
       "       'Commentaries, Behind the Scenes', 'Deleted Scenes', 'Trailers',\n",
       "       'Commentaries, Deleted Scenes',\n",
       "       'Trailers, Deleted Scenes, Behind the Scenes',\n",
       "       'Trailers, Commentaries, Behind the Scenes',\n",
       "       'Trailers, Commentaries', 'Trailers, Behind the Scenes',\n",
       "       'Commentaries, Deleted Scenes, Behind the Scenes',\n",
       "       'Trailers, Commentaries, Deleted Scenes',\n",
       "       'Trailers, Commentaries, Deleted Scenes, Behind the Scenes',\n",
       "       'Behind the Scenes', 'Commentaries'], dtype=object)"
      ]
     },
     "execution_count": 68,
     "metadata": {},
     "output_type": "execute_result"
    }
   ],
   "source": [
    "film.special_features.unique()"
   ]
  },
  {
   "cell_type": "code",
   "execution_count": 69,
   "id": "56131739",
   "metadata": {},
   "outputs": [
    {
     "data": {
      "text/plain": [
       "array(['2006-02-15 05:03:42'], dtype=object)"
      ]
     },
     "execution_count": 69,
     "metadata": {},
     "output_type": "execute_result"
    }
   ],
   "source": [
    "film.last_update.unique()"
   ]
  },
  {
   "cell_type": "code",
   "execution_count": 70,
   "id": "7ad91c42",
   "metadata": {},
   "outputs": [],
   "source": [
    "# Se borra la columna last_update por que no otorga ninguna información relevante\n",
    "\n",
    "film.drop('last_update', axis = 1, inplace=True)  "
   ]
  },
  {
   "cell_type": "code",
   "execution_count": 72,
   "id": "12878699",
   "metadata": {},
   "outputs": [
    {
     "data": {
      "text/html": [
       "<div>\n",
       "<style scoped>\n",
       "    .dataframe tbody tr th:only-of-type {\n",
       "        vertical-align: middle;\n",
       "    }\n",
       "\n",
       "    .dataframe tbody tr th {\n",
       "        vertical-align: top;\n",
       "    }\n",
       "\n",
       "    .dataframe thead th {\n",
       "        text-align: right;\n",
       "    }\n",
       "</style>\n",
       "<table border=\"1\" class=\"dataframe\">\n",
       "  <thead>\n",
       "    <tr style=\"text-align: right;\">\n",
       "      <th></th>\n",
       "      <th>film_id</th>\n",
       "      <th>title</th>\n",
       "      <th>description</th>\n",
       "      <th>release_year</th>\n",
       "      <th>language_id</th>\n",
       "      <th>original_language_id</th>\n",
       "      <th>rental_duration</th>\n",
       "      <th>rental_rate</th>\n",
       "      <th>length</th>\n",
       "      <th>replacement_cost</th>\n",
       "      <th>rating</th>\n",
       "      <th>special_features</th>\n",
       "    </tr>\n",
       "  </thead>\n",
       "  <tbody>\n",
       "    <tr>\n",
       "      <th>0</th>\n",
       "      <td>1</td>\n",
       "      <td>ACADEMY DINOSAUR</td>\n",
       "      <td>A Epic Drama of a Feminist And a Mad Scientist...</td>\n",
       "      <td>2006</td>\n",
       "      <td>1</td>\n",
       "      <td>NaN</td>\n",
       "      <td>6</td>\n",
       "      <td>0.99</td>\n",
       "      <td>86</td>\n",
       "      <td>20.99</td>\n",
       "      <td>PG</td>\n",
       "      <td>Deleted Scenes, Behind the Scenes</td>\n",
       "    </tr>\n",
       "    <tr>\n",
       "      <th>1</th>\n",
       "      <td>2</td>\n",
       "      <td>ACE GOLDFINGER</td>\n",
       "      <td>A Astounding Epistle of a Database Administrat...</td>\n",
       "      <td>2006</td>\n",
       "      <td>1</td>\n",
       "      <td>NaN</td>\n",
       "      <td>3</td>\n",
       "      <td>4.99</td>\n",
       "      <td>48</td>\n",
       "      <td>12.99</td>\n",
       "      <td>G</td>\n",
       "      <td>Trailers, Deleted Scenes</td>\n",
       "    </tr>\n",
       "    <tr>\n",
       "      <th>2</th>\n",
       "      <td>3</td>\n",
       "      <td>ADAPTATION HOLES</td>\n",
       "      <td>A Astounding Reflection of a Lumberjack And a ...</td>\n",
       "      <td>2006</td>\n",
       "      <td>1</td>\n",
       "      <td>NaN</td>\n",
       "      <td>7</td>\n",
       "      <td>2.99</td>\n",
       "      <td>50</td>\n",
       "      <td>18.99</td>\n",
       "      <td>NC-17</td>\n",
       "      <td>Trailers, Deleted Scenes</td>\n",
       "    </tr>\n",
       "    <tr>\n",
       "      <th>3</th>\n",
       "      <td>4</td>\n",
       "      <td>AFFAIR PREJUDICE</td>\n",
       "      <td>A Fanciful Documentary of a Frisbee And a Lumb...</td>\n",
       "      <td>2006</td>\n",
       "      <td>1</td>\n",
       "      <td>NaN</td>\n",
       "      <td>5</td>\n",
       "      <td>2.99</td>\n",
       "      <td>117</td>\n",
       "      <td>26.99</td>\n",
       "      <td>G</td>\n",
       "      <td>Commentaries, Behind the Scenes</td>\n",
       "    </tr>\n",
       "    <tr>\n",
       "      <th>4</th>\n",
       "      <td>5</td>\n",
       "      <td>AFRICAN EGG</td>\n",
       "      <td>A Fast-Paced Documentary of a Pastry Chef And ...</td>\n",
       "      <td>2006</td>\n",
       "      <td>1</td>\n",
       "      <td>NaN</td>\n",
       "      <td>6</td>\n",
       "      <td>2.99</td>\n",
       "      <td>130</td>\n",
       "      <td>22.99</td>\n",
       "      <td>G</td>\n",
       "      <td>Deleted Scenes</td>\n",
       "    </tr>\n",
       "  </tbody>\n",
       "</table>\n",
       "</div>"
      ],
      "text/plain": [
       "   film_id             title  \\\n",
       "0        1  ACADEMY DINOSAUR   \n",
       "1        2    ACE GOLDFINGER   \n",
       "2        3  ADAPTATION HOLES   \n",
       "3        4  AFFAIR PREJUDICE   \n",
       "4        5       AFRICAN EGG   \n",
       "\n",
       "                                         description  release_year  \\\n",
       "0  A Epic Drama of a Feminist And a Mad Scientist...          2006   \n",
       "1  A Astounding Epistle of a Database Administrat...          2006   \n",
       "2  A Astounding Reflection of a Lumberjack And a ...          2006   \n",
       "3  A Fanciful Documentary of a Frisbee And a Lumb...          2006   \n",
       "4  A Fast-Paced Documentary of a Pastry Chef And ...          2006   \n",
       "\n",
       "   language_id  original_language_id  rental_duration  rental_rate  length  \\\n",
       "0            1                   NaN                6         0.99      86   \n",
       "1            1                   NaN                3         4.99      48   \n",
       "2            1                   NaN                7         2.99      50   \n",
       "3            1                   NaN                5         2.99     117   \n",
       "4            1                   NaN                6         2.99     130   \n",
       "\n",
       "   replacement_cost rating                   special_features  \n",
       "0             20.99     PG  Deleted Scenes, Behind the Scenes  \n",
       "1             12.99      G           Trailers, Deleted Scenes  \n",
       "2             18.99  NC-17           Trailers, Deleted Scenes  \n",
       "3             26.99      G    Commentaries, Behind the Scenes  \n",
       "4             22.99      G                     Deleted Scenes  "
      ]
     },
     "execution_count": 72,
     "metadata": {},
     "output_type": "execute_result"
    }
   ],
   "source": [
    "film.head()"
   ]
  },
  {
   "cell_type": "code",
   "execution_count": 79,
   "id": "614548c2",
   "metadata": {},
   "outputs": [],
   "source": [
    "film.to_csv('../data/film.csv')"
   ]
  },
  {
   "cell_type": "markdown",
   "id": "be240991",
   "metadata": {},
   "source": [
    "# inventory"
   ]
  },
  {
   "cell_type": "code",
   "execution_count": 73,
   "id": "eeac3ddb",
   "metadata": {},
   "outputs": [
    {
     "data": {
      "text/html": [
       "<div>\n",
       "<style scoped>\n",
       "    .dataframe tbody tr th:only-of-type {\n",
       "        vertical-align: middle;\n",
       "    }\n",
       "\n",
       "    .dataframe tbody tr th {\n",
       "        vertical-align: top;\n",
       "    }\n",
       "\n",
       "    .dataframe thead th {\n",
       "        text-align: right;\n",
       "    }\n",
       "</style>\n",
       "<table border=\"1\" class=\"dataframe\">\n",
       "  <thead>\n",
       "    <tr style=\"text-align: right;\">\n",
       "      <th></th>\n",
       "      <th>inventory_id</th>\n",
       "      <th>film_id</th>\n",
       "      <th>store_id</th>\n",
       "      <th>last_update</th>\n",
       "    </tr>\n",
       "  </thead>\n",
       "  <tbody>\n",
       "    <tr>\n",
       "      <th>0</th>\n",
       "      <td>1</td>\n",
       "      <td>1</td>\n",
       "      <td>1</td>\n",
       "      <td>2006-02-15 05:09:17</td>\n",
       "    </tr>\n",
       "    <tr>\n",
       "      <th>1</th>\n",
       "      <td>2</td>\n",
       "      <td>1</td>\n",
       "      <td>1</td>\n",
       "      <td>2006-02-15 05:09:17</td>\n",
       "    </tr>\n",
       "    <tr>\n",
       "      <th>2</th>\n",
       "      <td>3</td>\n",
       "      <td>1</td>\n",
       "      <td>1</td>\n",
       "      <td>2006-02-15 05:09:17</td>\n",
       "    </tr>\n",
       "    <tr>\n",
       "      <th>3</th>\n",
       "      <td>4</td>\n",
       "      <td>1</td>\n",
       "      <td>1</td>\n",
       "      <td>2006-02-15 05:09:17</td>\n",
       "    </tr>\n",
       "    <tr>\n",
       "      <th>4</th>\n",
       "      <td>5</td>\n",
       "      <td>1</td>\n",
       "      <td>2</td>\n",
       "      <td>2006-02-15 05:09:17</td>\n",
       "    </tr>\n",
       "  </tbody>\n",
       "</table>\n",
       "</div>"
      ],
      "text/plain": [
       "   inventory_id  film_id  store_id          last_update\n",
       "0             1        1         1  2006-02-15 05:09:17\n",
       "1             2        1         1  2006-02-15 05:09:17\n",
       "2             3        1         1  2006-02-15 05:09:17\n",
       "3             4        1         1  2006-02-15 05:09:17\n",
       "4             5        1         2  2006-02-15 05:09:17"
      ]
     },
     "execution_count": 73,
     "metadata": {},
     "output_type": "execute_result"
    }
   ],
   "source": [
    "inventory.head()"
   ]
  },
  {
   "cell_type": "code",
   "execution_count": 74,
   "id": "6480cc56",
   "metadata": {},
   "outputs": [
    {
     "data": {
      "text/plain": [
       "(1000, 4)"
      ]
     },
     "execution_count": 74,
     "metadata": {},
     "output_type": "execute_result"
    }
   ],
   "source": [
    "inventory.shape"
   ]
  },
  {
   "cell_type": "code",
   "execution_count": 78,
   "id": "18933224",
   "metadata": {},
   "outputs": [
    {
     "name": "stdout",
     "output_type": "stream",
     "text": [
      "<class 'pandas.core.frame.DataFrame'>\n",
      "RangeIndex: 1000 entries, 0 to 999\n",
      "Data columns (total 4 columns):\n",
      " #   Column        Non-Null Count  Dtype \n",
      "---  ------        --------------  ----- \n",
      " 0   inventory_id  1000 non-null   int64 \n",
      " 1   film_id       1000 non-null   int64 \n",
      " 2   store_id      1000 non-null   int64 \n",
      " 3   last_update   1000 non-null   object\n",
      "dtypes: int64(3), object(1)\n",
      "memory usage: 31.4+ KB\n"
     ]
    }
   ],
   "source": [
    "inventory.info()"
   ]
  },
  {
   "cell_type": "code",
   "execution_count": 80,
   "id": "d80ae2c0",
   "metadata": {},
   "outputs": [
    {
     "data": {
      "text/plain": [
       "array([   1,    2,    3,    4,    5,    6,    7,    8,    9,   10,   11,\n",
       "         12,   13,   14,   15,   16,   17,   18,   19,   20,   21,   22,\n",
       "         23,   24,   25,   26,   27,   28,   29,   30,   31,   32,   33,\n",
       "         34,   35,   36,   37,   38,   39,   40,   41,   42,   43,   44,\n",
       "         45,   46,   47,   48,   49,   50,   51,   52,   53,   54,   55,\n",
       "         56,   57,   58,   59,   60,   61,   62,   63,   64,   65,   66,\n",
       "         67,   68,   69,   70,   71,   72,   73,   74,   75,   76,   77,\n",
       "         78,   79,   80,   81,   82,   83,   84,   85,   86,   87,   88,\n",
       "         89,   90,   91,   92,   93,   94,   95,   96,   97,   98,   99,\n",
       "        100,  101,  102,  103,  104,  105,  106,  107,  108,  109,  110,\n",
       "        111,  112,  113,  114,  115,  116,  117,  118,  119,  120,  121,\n",
       "        122,  123,  124,  125,  126,  127,  128,  129,  130,  131,  132,\n",
       "        133,  134,  135,  136,  137,  138,  139,  140,  141,  142,  143,\n",
       "        144,  145,  146,  147,  148,  149,  150,  151,  152,  153,  154,\n",
       "        155,  156,  157,  158,  159,  160,  161,  162,  163,  164,  165,\n",
       "        166,  167,  168,  169,  170,  171,  172,  173,  174,  175,  176,\n",
       "        177,  178,  179,  180,  181,  182,  183,  184,  185,  186,  187,\n",
       "        188,  189,  190,  191,  192,  193,  194,  195,  196,  197,  198,\n",
       "        199,  200,  201,  202,  203,  204,  205,  206,  207,  208,  209,\n",
       "        210,  211,  212,  213,  214,  215,  216,  217,  218,  219,  220,\n",
       "        221,  222,  223,  224,  225,  226,  227,  228,  229,  230,  231,\n",
       "        232,  233,  234,  235,  236,  237,  238,  239,  240,  241,  242,\n",
       "        243,  244,  245,  246,  247,  248,  249,  250,  251,  252,  253,\n",
       "        254,  255,  256,  257,  258,  259,  260,  261,  262,  263,  264,\n",
       "        265,  266,  267,  268,  269,  270,  271,  272,  273,  274,  275,\n",
       "        276,  277,  278,  279,  280,  281,  282,  283,  284,  285,  286,\n",
       "        287,  288,  289,  290,  291,  292,  293,  294,  295,  296,  297,\n",
       "        298,  299,  300,  301,  302,  303,  304,  305,  306,  307,  308,\n",
       "        309,  310,  311,  312,  313,  314,  315,  316,  317,  318,  319,\n",
       "        320,  321,  322,  323,  324,  325,  326,  327,  328,  329,  330,\n",
       "        331,  332,  333,  334,  335,  336,  337,  338,  339,  340,  341,\n",
       "        342,  343,  344,  345,  346,  347,  348,  349,  350,  351,  352,\n",
       "        353,  354,  355,  356,  357,  358,  359,  360,  361,  362,  363,\n",
       "        364,  365,  366,  367,  368,  369,  370,  371,  372,  373,  374,\n",
       "        375,  376,  377,  378,  379,  380,  381,  382,  383,  384,  385,\n",
       "        386,  387,  388,  389,  390,  391,  392,  393,  394,  395,  396,\n",
       "        397,  398,  399,  400,  401,  402,  403,  404,  405,  406,  407,\n",
       "        408,  409,  410,  411,  412,  413,  414,  415,  416,  417,  418,\n",
       "        419,  420,  421,  422,  423,  424,  425,  426,  427,  428,  429,\n",
       "        430,  431,  432,  433,  434,  435,  436,  437,  438,  439,  440,\n",
       "        441,  442,  443,  444,  445,  446,  447,  448,  449,  450,  451,\n",
       "        452,  453,  454,  455,  456,  457,  458,  459,  460,  461,  462,\n",
       "        463,  464,  465,  466,  467,  468,  469,  470,  471,  472,  473,\n",
       "        474,  475,  476,  477,  478,  479,  480,  481,  482,  483,  484,\n",
       "        485,  486,  487,  488,  489,  490,  491,  492,  493,  494,  495,\n",
       "        496,  497,  498,  499,  500,  501,  502,  503,  504,  505,  506,\n",
       "        507,  508,  509,  510,  511,  512,  513,  514,  515,  516,  517,\n",
       "        518,  519,  520,  521,  522,  523,  524,  525,  526,  527,  528,\n",
       "        529,  530,  531,  532,  533,  534,  535,  536,  537,  538,  539,\n",
       "        540,  541,  542,  543,  544,  545,  546,  547,  548,  549,  550,\n",
       "        551,  552,  553,  554,  555,  556,  557,  558,  559,  560,  561,\n",
       "        562,  563,  564,  565,  566,  567,  568,  569,  570,  571,  572,\n",
       "        573,  574,  575,  576,  577,  578,  579,  580,  581,  582,  583,\n",
       "        584,  585,  586,  587,  588,  589,  590,  591,  592,  593,  594,\n",
       "        595,  596,  597,  598,  599,  600,  601,  602,  603,  604,  605,\n",
       "        606,  607,  608,  609,  610,  611,  612,  613,  614,  615,  616,\n",
       "        617,  618,  619,  620,  621,  622,  623,  624,  625,  626,  627,\n",
       "        628,  629,  630,  631,  632,  633,  634,  635,  636,  637,  638,\n",
       "        639,  640,  641,  642,  643,  644,  645,  646,  647,  648,  649,\n",
       "        650,  651,  652,  653,  654,  655,  656,  657,  658,  659,  660,\n",
       "        661,  662,  663,  664,  665,  666,  667,  668,  669,  670,  671,\n",
       "        672,  673,  674,  675,  676,  677,  678,  679,  680,  681,  682,\n",
       "        683,  684,  685,  686,  687,  688,  689,  690,  691,  692,  693,\n",
       "        694,  695,  696,  697,  698,  699,  700,  701,  702,  703,  704,\n",
       "        705,  706,  707,  708,  709,  710,  711,  712,  713,  714,  715,\n",
       "        716,  717,  718,  719,  720,  721,  722,  723,  724,  725,  726,\n",
       "        727,  728,  729,  730,  731,  732,  733,  734,  735,  736,  737,\n",
       "        738,  739,  740,  741,  742,  743,  744,  745,  746,  747,  748,\n",
       "        749,  750,  751,  752,  753,  754,  755,  756,  757,  758,  759,\n",
       "        760,  761,  762,  763,  764,  765,  766,  767,  768,  769,  770,\n",
       "        771,  772,  773,  774,  775,  776,  777,  778,  779,  780,  781,\n",
       "        782,  783,  784,  785,  786,  787,  788,  789,  790,  791,  792,\n",
       "        793,  794,  795,  796,  797,  798,  799,  800,  801,  802,  803,\n",
       "        804,  805,  806,  807,  808,  809,  810,  811,  812,  813,  814,\n",
       "        815,  816,  817,  818,  819,  820,  821,  822,  823,  824,  825,\n",
       "        826,  827,  828,  829,  830,  831,  832,  833,  834,  835,  836,\n",
       "        837,  838,  839,  840,  841,  842,  843,  844,  845,  846,  847,\n",
       "        848,  849,  850,  851,  852,  853,  854,  855,  856,  857,  858,\n",
       "        859,  860,  861,  862,  863,  864,  865,  866,  867,  868,  869,\n",
       "        870,  871,  872,  873,  874,  875,  876,  877,  878,  879,  880,\n",
       "        881,  882,  883,  884,  885,  886,  887,  888,  889,  890,  891,\n",
       "        892,  893,  894,  895,  896,  897,  898,  899,  900,  901,  902,\n",
       "        903,  904,  905,  906,  907,  908,  909,  910,  911,  912,  913,\n",
       "        914,  915,  916,  917,  918,  919,  920,  921,  922,  923,  924,\n",
       "        925,  926,  927,  928,  929,  930,  931,  932,  933,  934,  935,\n",
       "        936,  937,  938,  939,  940,  941,  942,  943,  944,  945,  946,\n",
       "        947,  948,  949,  950,  951,  952,  953,  954,  955,  956,  957,\n",
       "        958,  959,  960,  961,  962,  963,  964,  965,  966,  967,  968,\n",
       "        969,  970,  971,  972,  973,  974,  975,  976,  977,  978,  979,\n",
       "        980,  981,  982,  983,  984,  985,  986,  987,  988,  989,  990,\n",
       "        991,  992,  993,  994,  995,  996,  997,  998,  999, 1000])"
      ]
     },
     "execution_count": 80,
     "metadata": {},
     "output_type": "execute_result"
    }
   ],
   "source": [
    "inventory.inventory_id.unique()"
   ]
  },
  {
   "cell_type": "code",
   "execution_count": 81,
   "id": "920d43b2",
   "metadata": {},
   "outputs": [
    {
     "data": {
      "text/plain": [
       "array([  1,   2,   3,   4,   5,   6,   7,   8,   9,  10,  11,  12,  13,\n",
       "        15,  16,  17,  18,  19,  20,  21,  22,  23,  24,  25,  26,  27,\n",
       "        28,  29,  30,  31,  32,  34,  35,  37,  39,  40,  42,  43,  44,\n",
       "        45,  46,  47,  48,  49,  50,  51,  52,  53,  54,  55,  56,  57,\n",
       "        58,  59,  60,  61,  62,  63,  64,  65,  66,  67,  68,  69,  70,\n",
       "        71,  72,  73,  74,  75,  76,  77,  78,  79,  80,  81,  82,  83,\n",
       "        84,  85,  86,  88,  89,  90,  91,  92,  93,  94,  95,  96,  97,\n",
       "        98,  99, 100, 101, 102, 103, 104, 105, 106, 107, 109, 110, 111,\n",
       "       112, 113, 114, 115, 116, 117, 118, 119, 120, 121, 122, 123, 124,\n",
       "       125, 126, 127, 129, 130, 131, 132, 133, 134, 135, 136, 137, 138,\n",
       "       139, 140, 141, 142, 143, 145, 146, 147, 149, 150, 151, 152, 153,\n",
       "       154, 155, 156, 157, 158, 159, 160, 161, 162, 163, 164, 165, 166,\n",
       "       167, 168, 169, 170, 172, 173, 174, 175, 176, 177, 178, 179, 180,\n",
       "       181, 182, 183, 184, 185, 186, 187, 188, 189, 190, 191, 193, 194,\n",
       "       196, 197, 199, 200, 201, 202, 203, 204, 205, 206, 207, 208, 209,\n",
       "       210, 211, 212, 213, 214, 215, 216, 218, 219, 220, 222, 223])"
      ]
     },
     "execution_count": 81,
     "metadata": {},
     "output_type": "execute_result"
    }
   ],
   "source": [
    "inventory.film_id.unique()"
   ]
  },
  {
   "cell_type": "code",
   "execution_count": 82,
   "id": "bf8af667",
   "metadata": {},
   "outputs": [
    {
     "data": {
      "text/plain": [
       "array([1, 2])"
      ]
     },
     "execution_count": 82,
     "metadata": {},
     "output_type": "execute_result"
    }
   ],
   "source": [
    "inventory.store_id.unique()"
   ]
  },
  {
   "cell_type": "code",
   "execution_count": 83,
   "id": "f4dc72dd",
   "metadata": {},
   "outputs": [
    {
     "data": {
      "text/plain": [
       "array(['2006-02-15 05:09:17'], dtype=object)"
      ]
     },
     "execution_count": 83,
     "metadata": {},
     "output_type": "execute_result"
    }
   ],
   "source": [
    "inventory.last_update.unique()"
   ]
  },
  {
   "cell_type": "code",
   "execution_count": 84,
   "id": "4bfa672b",
   "metadata": {},
   "outputs": [],
   "source": [
    "# Se borra la columna last_update por que no otorga ninguna información relevante\n",
    "\n",
    "inventory.drop('last_update', axis = 1, inplace=True)  "
   ]
  },
  {
   "cell_type": "code",
   "execution_count": 85,
   "id": "a5d3cce4",
   "metadata": {},
   "outputs": [
    {
     "data": {
      "text/html": [
       "<div>\n",
       "<style scoped>\n",
       "    .dataframe tbody tr th:only-of-type {\n",
       "        vertical-align: middle;\n",
       "    }\n",
       "\n",
       "    .dataframe tbody tr th {\n",
       "        vertical-align: top;\n",
       "    }\n",
       "\n",
       "    .dataframe thead th {\n",
       "        text-align: right;\n",
       "    }\n",
       "</style>\n",
       "<table border=\"1\" class=\"dataframe\">\n",
       "  <thead>\n",
       "    <tr style=\"text-align: right;\">\n",
       "      <th></th>\n",
       "      <th>inventory_id</th>\n",
       "      <th>film_id</th>\n",
       "      <th>store_id</th>\n",
       "    </tr>\n",
       "  </thead>\n",
       "  <tbody>\n",
       "    <tr>\n",
       "      <th>0</th>\n",
       "      <td>1</td>\n",
       "      <td>1</td>\n",
       "      <td>1</td>\n",
       "    </tr>\n",
       "    <tr>\n",
       "      <th>1</th>\n",
       "      <td>2</td>\n",
       "      <td>1</td>\n",
       "      <td>1</td>\n",
       "    </tr>\n",
       "    <tr>\n",
       "      <th>2</th>\n",
       "      <td>3</td>\n",
       "      <td>1</td>\n",
       "      <td>1</td>\n",
       "    </tr>\n",
       "    <tr>\n",
       "      <th>3</th>\n",
       "      <td>4</td>\n",
       "      <td>1</td>\n",
       "      <td>1</td>\n",
       "    </tr>\n",
       "    <tr>\n",
       "      <th>4</th>\n",
       "      <td>5</td>\n",
       "      <td>1</td>\n",
       "      <td>2</td>\n",
       "    </tr>\n",
       "  </tbody>\n",
       "</table>\n",
       "</div>"
      ],
      "text/plain": [
       "   inventory_id  film_id  store_id\n",
       "0             1        1         1\n",
       "1             2        1         1\n",
       "2             3        1         1\n",
       "3             4        1         1\n",
       "4             5        1         2"
      ]
     },
     "execution_count": 85,
     "metadata": {},
     "output_type": "execute_result"
    }
   ],
   "source": [
    "inventory.head()"
   ]
  },
  {
   "cell_type": "code",
   "execution_count": 86,
   "id": "fc2d287a",
   "metadata": {},
   "outputs": [],
   "source": [
    "inventory.to_csv('../data/inventory.csv')"
   ]
  },
  {
   "cell_type": "markdown",
   "id": "d7881596",
   "metadata": {},
   "source": [
    "# language"
   ]
  },
  {
   "cell_type": "code",
   "execution_count": 90,
   "id": "5a9b904d",
   "metadata": {},
   "outputs": [
    {
     "data": {
      "text/html": [
       "<div>\n",
       "<style scoped>\n",
       "    .dataframe tbody tr th:only-of-type {\n",
       "        vertical-align: middle;\n",
       "    }\n",
       "\n",
       "    .dataframe tbody tr th {\n",
       "        vertical-align: top;\n",
       "    }\n",
       "\n",
       "    .dataframe thead th {\n",
       "        text-align: right;\n",
       "    }\n",
       "</style>\n",
       "<table border=\"1\" class=\"dataframe\">\n",
       "  <thead>\n",
       "    <tr style=\"text-align: right;\">\n",
       "      <th></th>\n",
       "      <th>language_id</th>\n",
       "      <th>name</th>\n",
       "      <th>last_update</th>\n",
       "    </tr>\n",
       "  </thead>\n",
       "  <tbody>\n",
       "    <tr>\n",
       "      <th>0</th>\n",
       "      <td>1</td>\n",
       "      <td>English</td>\n",
       "      <td>2006-02-15 05:02:19</td>\n",
       "    </tr>\n",
       "    <tr>\n",
       "      <th>1</th>\n",
       "      <td>2</td>\n",
       "      <td>Italian</td>\n",
       "      <td>2006-02-15 05:02:19</td>\n",
       "    </tr>\n",
       "    <tr>\n",
       "      <th>2</th>\n",
       "      <td>3</td>\n",
       "      <td>Japanese</td>\n",
       "      <td>2006-02-15 05:02:19</td>\n",
       "    </tr>\n",
       "    <tr>\n",
       "      <th>3</th>\n",
       "      <td>4</td>\n",
       "      <td>Mandarin</td>\n",
       "      <td>2006-02-15 05:02:19</td>\n",
       "    </tr>\n",
       "    <tr>\n",
       "      <th>4</th>\n",
       "      <td>5</td>\n",
       "      <td>French</td>\n",
       "      <td>2006-02-15 05:02:19</td>\n",
       "    </tr>\n",
       "    <tr>\n",
       "      <th>5</th>\n",
       "      <td>6</td>\n",
       "      <td>German</td>\n",
       "      <td>2006-02-15 05:02:19</td>\n",
       "    </tr>\n",
       "  </tbody>\n",
       "</table>\n",
       "</div>"
      ],
      "text/plain": [
       "   language_id      name          last_update\n",
       "0            1   English  2006-02-15 05:02:19\n",
       "1            2   Italian  2006-02-15 05:02:19\n",
       "2            3  Japanese  2006-02-15 05:02:19\n",
       "3            4  Mandarin  2006-02-15 05:02:19\n",
       "4            5    French  2006-02-15 05:02:19\n",
       "5            6    German  2006-02-15 05:02:19"
      ]
     },
     "execution_count": 90,
     "metadata": {},
     "output_type": "execute_result"
    }
   ],
   "source": [
    "language"
   ]
  },
  {
   "cell_type": "code",
   "execution_count": 88,
   "id": "26417975",
   "metadata": {},
   "outputs": [
    {
     "data": {
      "text/plain": [
       "(6, 3)"
      ]
     },
     "execution_count": 88,
     "metadata": {},
     "output_type": "execute_result"
    }
   ],
   "source": [
    "language.shape"
   ]
  },
  {
   "cell_type": "code",
   "execution_count": 89,
   "id": "c47d8b4d",
   "metadata": {},
   "outputs": [
    {
     "name": "stdout",
     "output_type": "stream",
     "text": [
      "<class 'pandas.core.frame.DataFrame'>\n",
      "RangeIndex: 6 entries, 0 to 5\n",
      "Data columns (total 3 columns):\n",
      " #   Column       Non-Null Count  Dtype \n",
      "---  ------       --------------  ----- \n",
      " 0   language_id  6 non-null      int64 \n",
      " 1   name         6 non-null      object\n",
      " 2   last_update  6 non-null      object\n",
      "dtypes: int64(1), object(2)\n",
      "memory usage: 272.0+ bytes\n"
     ]
    }
   ],
   "source": [
    "language.info()"
   ]
  },
  {
   "cell_type": "code",
   "execution_count": 91,
   "id": "906f5583",
   "metadata": {},
   "outputs": [],
   "source": [
    "# Se borra la columna last_update por que no otorga ninguna información relevante\n",
    "\n",
    "language.drop('last_update', axis = 1, inplace=True) "
   ]
  },
  {
   "cell_type": "code",
   "execution_count": 92,
   "id": "3d016cd3",
   "metadata": {},
   "outputs": [
    {
     "data": {
      "text/html": [
       "<div>\n",
       "<style scoped>\n",
       "    .dataframe tbody tr th:only-of-type {\n",
       "        vertical-align: middle;\n",
       "    }\n",
       "\n",
       "    .dataframe tbody tr th {\n",
       "        vertical-align: top;\n",
       "    }\n",
       "\n",
       "    .dataframe thead th {\n",
       "        text-align: right;\n",
       "    }\n",
       "</style>\n",
       "<table border=\"1\" class=\"dataframe\">\n",
       "  <thead>\n",
       "    <tr style=\"text-align: right;\">\n",
       "      <th></th>\n",
       "      <th>language_id</th>\n",
       "      <th>name</th>\n",
       "    </tr>\n",
       "  </thead>\n",
       "  <tbody>\n",
       "    <tr>\n",
       "      <th>0</th>\n",
       "      <td>1</td>\n",
       "      <td>English</td>\n",
       "    </tr>\n",
       "    <tr>\n",
       "      <th>1</th>\n",
       "      <td>2</td>\n",
       "      <td>Italian</td>\n",
       "    </tr>\n",
       "    <tr>\n",
       "      <th>2</th>\n",
       "      <td>3</td>\n",
       "      <td>Japanese</td>\n",
       "    </tr>\n",
       "    <tr>\n",
       "      <th>3</th>\n",
       "      <td>4</td>\n",
       "      <td>Mandarin</td>\n",
       "    </tr>\n",
       "    <tr>\n",
       "      <th>4</th>\n",
       "      <td>5</td>\n",
       "      <td>French</td>\n",
       "    </tr>\n",
       "  </tbody>\n",
       "</table>\n",
       "</div>"
      ],
      "text/plain": [
       "   language_id      name\n",
       "0            1   English\n",
       "1            2   Italian\n",
       "2            3  Japanese\n",
       "3            4  Mandarin\n",
       "4            5    French"
      ]
     },
     "execution_count": 92,
     "metadata": {},
     "output_type": "execute_result"
    }
   ],
   "source": [
    "language.head()"
   ]
  },
  {
   "cell_type": "code",
   "execution_count": 93,
   "id": "d8a75bb9",
   "metadata": {},
   "outputs": [],
   "source": [
    "language.to_csv('../data/language.csv')"
   ]
  },
  {
   "cell_type": "markdown",
   "id": "b9a879b2",
   "metadata": {},
   "source": [
    "# old_HDD"
   ]
  },
  {
   "cell_type": "code",
   "execution_count": 94,
   "id": "21ea81aa",
   "metadata": {},
   "outputs": [
    {
     "data": {
      "text/html": [
       "<div>\n",
       "<style scoped>\n",
       "    .dataframe tbody tr th:only-of-type {\n",
       "        vertical-align: middle;\n",
       "    }\n",
       "\n",
       "    .dataframe tbody tr th {\n",
       "        vertical-align: top;\n",
       "    }\n",
       "\n",
       "    .dataframe thead th {\n",
       "        text-align: right;\n",
       "    }\n",
       "</style>\n",
       "<table border=\"1\" class=\"dataframe\">\n",
       "  <thead>\n",
       "    <tr style=\"text-align: right;\">\n",
       "      <th></th>\n",
       "      <th>first_name</th>\n",
       "      <th>last_name</th>\n",
       "      <th>title</th>\n",
       "      <th>release_year</th>\n",
       "      <th>category_id</th>\n",
       "    </tr>\n",
       "  </thead>\n",
       "  <tbody>\n",
       "    <tr>\n",
       "      <th>0</th>\n",
       "      <td>PENELOPE</td>\n",
       "      <td>GUINESS</td>\n",
       "      <td>ACADEMY DINOSAUR</td>\n",
       "      <td>2006</td>\n",
       "      <td>6</td>\n",
       "    </tr>\n",
       "    <tr>\n",
       "      <th>1</th>\n",
       "      <td>PENELOPE</td>\n",
       "      <td>GUINESS</td>\n",
       "      <td>ANACONDA CONFESSIONS</td>\n",
       "      <td>2006</td>\n",
       "      <td>2</td>\n",
       "    </tr>\n",
       "    <tr>\n",
       "      <th>2</th>\n",
       "      <td>PENELOPE</td>\n",
       "      <td>GUINESS</td>\n",
       "      <td>ANGELS LIFE</td>\n",
       "      <td>2006</td>\n",
       "      <td>13</td>\n",
       "    </tr>\n",
       "    <tr>\n",
       "      <th>3</th>\n",
       "      <td>PENELOPE</td>\n",
       "      <td>GUINESS</td>\n",
       "      <td>BULWORTH COMMANDMENTS</td>\n",
       "      <td>2006</td>\n",
       "      <td>10</td>\n",
       "    </tr>\n",
       "    <tr>\n",
       "      <th>4</th>\n",
       "      <td>PENELOPE</td>\n",
       "      <td>GUINESS</td>\n",
       "      <td>CHEAPER CLYDE</td>\n",
       "      <td>2006</td>\n",
       "      <td>14</td>\n",
       "    </tr>\n",
       "  </tbody>\n",
       "</table>\n",
       "</div>"
      ],
      "text/plain": [
       "  first_name last_name                  title  release_year  category_id\n",
       "0   PENELOPE   GUINESS       ACADEMY DINOSAUR          2006            6\n",
       "1   PENELOPE   GUINESS   ANACONDA CONFESSIONS          2006            2\n",
       "2   PENELOPE   GUINESS            ANGELS LIFE          2006           13\n",
       "3   PENELOPE   GUINESS  BULWORTH COMMANDMENTS          2006           10\n",
       "4   PENELOPE   GUINESS          CHEAPER CLYDE          2006           14"
      ]
     },
     "execution_count": 94,
     "metadata": {},
     "output_type": "execute_result"
    }
   ],
   "source": [
    "hdd.head()"
   ]
  },
  {
   "cell_type": "code",
   "execution_count": 97,
   "id": "f825fdf3",
   "metadata": {},
   "outputs": [
    {
     "data": {
      "text/plain": [
       "(1000, 5)"
      ]
     },
     "execution_count": 97,
     "metadata": {},
     "output_type": "execute_result"
    }
   ],
   "source": [
    "hdd.shape"
   ]
  },
  {
   "cell_type": "code",
   "execution_count": 98,
   "id": "47f51f69",
   "metadata": {},
   "outputs": [
    {
     "name": "stdout",
     "output_type": "stream",
     "text": [
      "<class 'pandas.core.frame.DataFrame'>\n",
      "RangeIndex: 1000 entries, 0 to 999\n",
      "Data columns (total 5 columns):\n",
      " #   Column        Non-Null Count  Dtype \n",
      "---  ------        --------------  ----- \n",
      " 0   first_name    1000 non-null   object\n",
      " 1   last_name     1000 non-null   object\n",
      " 2   title         1000 non-null   object\n",
      " 3   release_year  1000 non-null   int64 \n",
      " 4   category_id   1000 non-null   int64 \n",
      "dtypes: int64(2), object(3)\n",
      "memory usage: 39.2+ KB\n"
     ]
    }
   ],
   "source": [
    "hdd.info()"
   ]
  },
  {
   "cell_type": "code",
   "execution_count": 100,
   "id": "5fa15095",
   "metadata": {},
   "outputs": [
    {
     "data": {
      "text/plain": [
       "array(['PENELOPE', 'NICK', 'ED', 'JENNIFER', 'JOHNNY', 'BETTE', 'GRACE',\n",
       "       'MATTHEW', 'JOE', 'CHRISTIAN', 'ZERO', 'KARL', 'UMA', 'VIVIEN',\n",
       "       'CUBA', 'FRED', 'HELEN', 'DAN', 'BOB', 'LUCILLE', 'KIRSTEN',\n",
       "       'ELVIS', 'SANDRA', 'CAMERON', 'KEVIN', 'RIP', 'JULIA', 'WOODY',\n",
       "       'ALEC', 'SISSY', 'TIM', 'MILLA', 'AUDREY', 'JUDY', 'BURT', 'VAL',\n",
       "       'TOM', 'GOLDIE'], dtype=object)"
      ]
     },
     "execution_count": 100,
     "metadata": {},
     "output_type": "execute_result"
    }
   ],
   "source": [
    "hdd.first_name.unique()"
   ]
  },
  {
   "cell_type": "code",
   "execution_count": 101,
   "id": "15e216a4",
   "metadata": {},
   "outputs": [
    {
     "data": {
      "text/plain": [
       "array(['GUINESS', 'WAHLBERG', 'CHASE', 'DAVIS', 'LOLLOBRIGIDA',\n",
       "       'NICHOLSON', 'MOSTEL', 'JOHANSSON', 'SWANK', 'GABLE', 'CAGE',\n",
       "       'BERRY', 'WOOD', 'BERGEN', 'OLIVIER', 'COSTNER', 'VOIGHT', 'TORN',\n",
       "       'FAWCETT', 'TRACY', 'PALTROW', 'MARX', 'KILMER', 'STREEP', 'BLOOM',\n",
       "       'CRAWFORD', 'MCQUEEN', 'HOFFMAN', 'WAYNE', 'PECK', 'SOBIESKI',\n",
       "       'HACKMAN', 'DEAN', 'DUKAKIS', 'BOLGER', 'MCKELLEN', 'BRODY'],\n",
       "      dtype=object)"
      ]
     },
     "execution_count": 101,
     "metadata": {},
     "output_type": "execute_result"
    }
   ],
   "source": [
    "hdd.last_name.unique()"
   ]
  },
  {
   "cell_type": "code",
   "execution_count": 103,
   "id": "592c1a7f",
   "metadata": {},
   "outputs": [],
   "source": [
    "# hdd.title.unique() Se comenta puesto que ocupan mucho lugar en la pantalla, están limpios"
   ]
  },
  {
   "cell_type": "code",
   "execution_count": 116,
   "id": "7ca47451",
   "metadata": {},
   "outputs": [],
   "source": [
    "# Contrastando los titulos de películas del disco duro antiguo con los datos actuales se observa que no son iguales\n",
    "\n",
    "# hdd.title == film.title Se comenta puesto que ocupan mucho lugar en la pantalla"
   ]
  },
  {
   "cell_type": "code",
   "execution_count": 118,
   "id": "c2d15afb",
   "metadata": {},
   "outputs": [
    {
     "data": {
      "text/plain": [
       "False"
      ]
     },
     "execution_count": 118,
     "metadata": {},
     "output_type": "execute_result"
    }
   ],
   "source": [
    "hdd.title.unique() == film.title.unique()"
   ]
  },
  {
   "cell_type": "code",
   "execution_count": 121,
   "id": "5c10be1e",
   "metadata": {},
   "outputs": [
    {
     "data": {
      "text/plain": [
       "array([1, 'ANACONDA CONFESSIONS', 'ANGELS LIFE', 'BULWORTH COMMANDMENTS',\n",
       "       'CHEAPER CLYDE', 'COLOR PHILADELPHIA', 'ELEPHANT TROJAN',\n",
       "       'GLEAMING JAWBREAKER', 'HUMAN GRAFFITI', 'KING EVOLUTION',\n",
       "       'LADY STAGE', 'LANGUAGE COWBOY', 'MULHOLLAND BEAST',\n",
       "       'OKLAHOMA JUMANJI', 'RULES HUMAN', 'SPLASH GUMP',\n",
       "       'VERTIGO NORTHWEST', 'WESTWARD SEABISCUIT', 'WIZARD COLDBLOODED',\n",
       "       'ADAPTATION HOLES', 'APACHE DIVINE', 'BABY HALL', 'BULL SHAWSHANK',\n",
       "       'CHAINSAW UPTOWN', 'CHISUM BEHAVIOR', 'DESTINY SATURDAY',\n",
       "       'DRACULA CRYSTAL', 'FIGHT JAWBREAKER', 'FLASH WARS',\n",
       "       'GILBERT PELICAN', 'GOODFELLAS SALUTE', 'HAPPINESS UNITED',\n",
       "       'INDIAN LOVE', 'JEKYLL FROGMEN', 'JERSEY SASSY', 'LIAISONS SWEET',\n",
       "       'LUCKY FLYING', 'MAGUIRE APACHE', 'MALLRATS UNITED', 'MASK PEACH',\n",
       "       'ROOF CHAMPION', 'RUSHMORE MERMAID', 'SMILE EARRING',\n",
       "       'WARDROBE PHANTOM', 'ALONE TRIP', 'ARMY FLINTSTONES',\n",
       "       'ARTIST COLDBLOODED', 'BOONDOCK BALLROOM', 'CADDYSHACK JEDI',\n",
       "       'COWBOY DOOM', 'EVE RESURRECTION', 'FORREST SONS',\n",
       "       'FRENCH HOLIDAY', 'FROST HEAD', 'HALLOWEEN NUTS', 'HUNTER ALTER',\n",
       "       'IMAGE PRINCESS', 'JEEPERS WEDDING', 'LUCK OPUS',\n",
       "       'NECKLACE OUTBREAK', 'PLATOON INSTINCT', 'SPICE SORORITY',\n",
       "       'WEDDING APOLLO', 'WEEKEND PERSONAL', 'WHALE BIKINI',\n",
       "       'YOUNG LANGUAGE', 'BAREFOOT MANCHURIAN', 'BED HIGHBALL',\n",
       "       'BLADE POLISH', 'GHOSTBUSTERS ELF', 'GREEDY ROOTS',\n",
       "       'HANOVER GALAXY', 'INSTINCT AIRPORT', 'JUMANJI BLADE',\n",
       "       'NATIONAL STORY', 'POSEIDON FOREVER', 'RAIDERS ANTITRUST',\n",
       "       'RANDOM GO', 'REDS POCUS', 'SILVERADO GOLDFINGER', 'SUBMARINE BED',\n",
       "       'TREASURE COMMAND', 'UNFORGIVEN ZOOLANDER', 'AMADEUS HOLY',\n",
       "       'BANGER PINOCCHIO', 'BONNIE HOLOCAUST', 'CHITTY LOCK',\n",
       "       'COMMANDMENTS EXPRESS', 'CONEHEADS SMOOCHY', 'DADDY PITTSBURGH',\n",
       "       'DAISY MENAGERIE', 'ENOUGH RAGING', 'ESCAPE METROPOLIS',\n",
       "       'FIRE WOLVES', 'FRONTIER CABIN', 'GRAIL FRANKENSTEIN',\n",
       "       'GROOVE FICTION', 'HALL CASSIDY', 'HEAVENLY GUN',\n",
       "       'KRAMER CHOCOLATE', 'LOVE SUICIDES', 'METAL ARMAGEDDON',\n",
       "       'PACIFIC AMISTAD', 'PATTON INTERVIEW', 'POCUS PULP',\n",
       "       'RIDGEMONT SUBMARINE', 'RINGS HEARTBREAKERS', 'SOLDIERS EVOLUTION',\n",
       "       'STAR OPERATION', 'SUNRISE LEAGUE', 'ANTITRUST TOMATOES',\n",
       "       'BANG KWAI', 'BEAST HUNCHBACK', 'BIKINI BORROWERS',\n",
       "       'CALENDAR GUNFIGHT', 'COAST RAINBOW', 'COLDBLOODED DARLING',\n",
       "       'CROSSROADS CASUALTIES', 'DROP WATERFRONT', 'IGBY MAKER',\n",
       "       'LESSON CLEOPATRA', 'LIBERTY MAGNIFICENT', 'POTLUCK MIXED',\n",
       "       'SPEED SUIT', 'TITANIC BOONDOCK', 'TRADING PINOCCHIO',\n",
       "       'WYOMING STORM', 'ANONYMOUS HUMAN', 'ARACHNOPHOBIA ROLLERCOASTER',\n",
       "       'BERETS AGENT', 'BREAKING HOME', 'COMMAND DARLING',\n",
       "       'CONFESSIONS MAGUIRE', 'DAZED PUNK', 'DECEIVER BETRAYED',\n",
       "       'DESTINATION JERK', 'EXCITEMENT EVE', 'GASLIGHT CRUSADE',\n",
       "       'HELLFIGHTERS SIERRA', 'MALKOVICH PET', 'OCTOBER SUBMARINE',\n",
       "       'OPEN AFRICAN', 'SAINTS BRIDE', 'SAVANNAH TOWN',\n",
       "       'SCISSORHANDS SLUMS', 'SLEEPLESS MONSOON', 'SLEEPY JAPANESE',\n",
       "       'STING PERSONAL', 'TOWN ARK', 'TRACY CIDER', 'TREATMENT JEKYLL',\n",
       "       'WAR NOTTING', 'WARLOCK WEREWOLF', 'CAMPUS REMEMBER',\n",
       "       'CLONES PINOCCHIO', 'CONQUERER NUTS', 'CROWDS TELEMARK',\n",
       "       'DANCES NONE', 'DRIVING POLISH', 'DURHAM PANKY', 'HANGING DEEP',\n",
       "       'LIGHTS DEER', 'LOSER HUSTLER', 'RUNNER MADIGAN', 'SCHOOL JACKET',\n",
       "       'SCORPION APOLLO', 'SUGAR WONKA', 'TOMORROW HUSTLER',\n",
       "       'VANISHING ROCKY', 'ANYTHING SAVANNAH', 'BIRCH ANTITRUST',\n",
       "       'CHOCOLAT HARRY', 'CHOCOLATE DUCK', 'CROOKED FROGMEN',\n",
       "       'CURTAIN VIDEOTAPE', 'DALMATIONS SWEDEN', 'HORROR REIGN',\n",
       "       'LAWLESS VISION', 'LEBOWSKI SOLDIERS', 'MAJESTIC FLOATS',\n",
       "       'PERDITION FARGO', 'PRIMARY GLASS', 'REEF SALUTE',\n",
       "       'SNATCHERS MONTEZUMA', 'SWEETHEARTS SUSPECTS', 'TIES HUNGER',\n",
       "       'TRAFFIC HOBBIT', 'UNTOUCHABLES SUNRISE', 'WATERFRONT DELIVERANCE',\n",
       "       'WILD APOLLO', 'ACADEMY DINOSAUR', 'ALABAMA DEVIL',\n",
       "       'DIVINE RESURRECTION', 'DRAGONFLY STRANGERS',\n",
       "       'GOLDFINGER SENSIBILITY', 'JAWBREAKER BROOKLYN', 'LIFE TWISTED',\n",
       "       'LORD ARIZONA', 'MOD SECRETARY', 'PREJUDICE OLEANDER',\n",
       "       'PUNK DIVORCE', 'REAP UNFAITHFUL', 'SHAKESPEARE SADDLE',\n",
       "       'TROUBLE DATE', 'USUAL UNTOUCHABLES', 'VACATION BOONDOCK',\n",
       "       'WON DARES', 'CANYON STOCK', 'ENCINO ELF', 'ENDING CROWDS',\n",
       "       'GANDHI KWAI', 'GODFATHER DIARY', 'HANDICAP BOONDOCK',\n",
       "       'HONEY TIES', 'HORN WORKING', 'MEET CHOCOLATE', 'MOONWALKER FOOL',\n",
       "       'OLEANDER CLUE', 'RACER EGG', 'STORY SIDE', 'STRANGERS GRAFFITI',\n",
       "       'THIN SAGEBRUSH', 'TOOTSIE PILOT', 'UPTOWN YOUNG',\n",
       "       'VELVET TERMINATOR', 'WEST LION', 'WORKER TARZAN',\n",
       "       'ALLEY EVOLUTION', 'ARABIA DOGMA', 'ARIZONA BANG', 'BOUND CHEAPER',\n",
       "       'BOWFINGER GABLES', 'BUNCH MINDS', 'CLEOPATRA DEVIL',\n",
       "       'CONNECTICUT TRAMP', 'DARES PLUTO', 'DATE SPEED', 'DAY UNFAITHFUL',\n",
       "       'DOORS PRESIDENT', 'FURY MURDER', 'HARDLY ROBBERS',\n",
       "       'HIGHBALL POTTER', 'HOLES BRANNIGAN', 'INDEPENDENCE HOTEL',\n",
       "       'LEATHERNECKS DWARFS', 'MONTEREY LABYRINTH', 'NOVOCAINE FLIGHT',\n",
       "       'PERFECT GROOVE', 'REUNION WITCHES', 'SMOKING BARBARELLA',\n",
       "       'STAGECOACH ARMAGEDDON', 'SWEDEN SHINING',\n",
       "       'TELEMARK HEARTBREAKERS', 'VIRGINIAN PLUTO', 'ATTRACTION NEWTON',\n",
       "       'CABIN FLASH', 'CHINATOWN GLADIATOR', 'CLASH FREDDY',\n",
       "       'CLUELESS BUCKET', 'DRIVER ANNIE', 'FRIDA SLIPPER',\n",
       "       'GALAXY SWEETHEARTS', 'GRINCH MASSAGE', 'GROUNDHOG UNCUT',\n",
       "       'HOMEWARD CIDER', 'INCH JET', 'LEGALLY SECRETARY', 'LION UNCUT',\n",
       "       'LOLITA WORLD', 'MODEL FISH', 'MOTIONS DETAILS', 'REBEL AIRPORT',\n",
       "       'RIDER CADDYSHACK', 'SNOWMAN ROLLERCOASTER', 'SPLENDOR PATTON',\n",
       "       'STEEL SANTA', 'TORQUE BOUND', 'ZHIVAGO CORE', 'CRANES RESERVOIR',\n",
       "       'DIRTY ACE', 'DONNIE ALLEY', 'DRIFTER COMMANDMENTS',\n",
       "       'DRUMS DYNAMITE', 'ENEMY ODDS', 'GORGEOUS BINGO', 'HIGH ENCINO',\n",
       "       'HILLS NEIGHBORS', 'HOBBIT ALIEN', 'IMPACT ALADDIN',\n",
       "       'ITALIAN AFRICAN', 'JAPANESE RUN', 'KENTUCKIAN GIANT',\n",
       "       'LOVELY JINGLE', 'LOVER TRUMAN', 'MUSSOLINI SPOILERS',\n",
       "       'POLISH BROOKLYN', 'SALUTE APOLLO', 'SATURDAY LAMBS',\n",
       "       'STOCK GLASS', 'STREETCAR INTENTIONS', 'TIGHTS DAWN', 'TRAP GUYS',\n",
       "       'TYCOON GATHERING', 'VOICE PEACH', 'BORROWERS BEDAZZLED',\n",
       "       'BUTCH PANTHER', 'CASSIDY WYOMING', 'EGYPT TENENBAUMS',\n",
       "       'EMPIRE MALKOVICH', 'FLYING HOOK', 'FUGITIVE MAGUIRE',\n",
       "       'HYDE DOCTOR', 'KISS GLORY', 'KNOCK WARLOCK', 'LUKE MUMMY',\n",
       "       'MAKER GABLES', 'MONTEZUMA COMMAND', 'NOON PAPI', 'ROSES TREASURE',\n",
       "       'SHANE DARKNESS', 'SIEGE MADRE', 'THEORY MERMAID', 'VOLCANO TEXAS',\n",
       "       'WEREWOLF LOLA', 'WONDERLAND CHRISTMAS', 'BLANKET BEVERLY',\n",
       "       'BROTHERHOOD BLANKET', 'CAROL TEXAS', 'DELIVERANCE MULHOLLAND',\n",
       "       'EAGLES PANKY', 'EARRING INSTINCT', 'EASY GLADIATOR',\n",
       "       'ENTRAPMENT SATISFACTION', 'GABLES METROPOLIS',\n",
       "       'IMPOSSIBLE PREJUDICE', 'MAGNIFICENT CHITTY', 'MIRACLE VIRTUAL',\n",
       "       'MISSION ZOOLANDER', 'REAR TRADING', 'SENSE GREEK',\n",
       "       'CAPER MOTIONS', 'CASPER DRAGONFLY', 'CAT CONEHEADS',\n",
       "       'CUPBOARD SINNERS', 'CYCLONE FAMILY', 'FEVER EMPIRE',\n",
       "       'FIDELITY DEVIL', 'GREATEST NORTH', 'IRON MOON', 'JAWS HARRY',\n",
       "       'LIES TREATMENT', 'MICROCOSMOS PARADISE', 'MOVIE SHAKESPEARE',\n",
       "       'MUMMY CREATURES', 'ROAD ROXANNE', 'SIDE ARK', 'SINNERS ATLANTIS',\n",
       "       'STRANGER STRANGERS', 'TADPOLE PARK', 'ATTACKS HATE',\n",
       "       'BOILED DARES', 'EARLY HOME', 'ELIZABETH SHANE', 'GUMP DATE',\n",
       "       'INNOCENT USUAL', 'INSIDER ARIZONA', 'JERK PAYCHECK', 'SLING LUKE',\n",
       "       'STATE WASTELAND', 'SUN CONFESSIONS', 'TEQUILA PAST',\n",
       "       'TUXEDO MILE', 'VIRGIN DAISY', 'ACE GOLDFINGER', 'CIRCUS YOUTH',\n",
       "       'CONTROL ANTHEM', 'DARN FORRESTER', 'DYNAMITE TARZAN',\n",
       "       'HATE HANDICAP', 'HOMICIDE PEACH', 'JACKET FRISCO', 'OSCAR GOLD',\n",
       "       'PELICAN COMFORTS', 'PERSONAL LADYBUGS', 'RAGING AIRPLANE',\n",
       "       'RUN PACIFIC', 'SADDLE ANTITRUST', 'SHAWSHANK BUBBLE', 'TAXI KICK',\n",
       "       'BEDAZZLED MARRIED', 'DINOSAUR SECRETARY', 'EGG IGBY',\n",
       "       'JUNGLE CLOSER', 'LOLA AGENT', 'LOSE INCH', 'LOVERBOY ATTACKS',\n",
       "       'MODERN DORADO', 'ORIENT CLOSER', 'PAJAMA JAWBREAKER',\n",
       "       'PATIENT SISTER', 'SAGEBRUSH CLUELESS', 'SHANGHAI TYCOON',\n",
       "       'WASTELAND DIVINE', 'WINDOW SIDE', 'AGENT TRUMAN', 'BORN SPINAL',\n",
       "       'CHICKEN HELLFIGHTERS', 'CLOSER BANG', 'HOME PITY',\n",
       "       'KILL BROTHERHOOD', 'LADYBUGS ARMAGEDDON', 'PINOCCHIO SIMON',\n",
       "       'PLUTO OLEANDER', 'PRIX UNDEFEATED', 'PULP BEVERLY',\n",
       "       'RIVER OUTLAW', 'SLEEPING SUSPECTS', 'THIEF PELICAN',\n",
       "       'TITANS JERK', 'UNBREAKABLE KARATE', 'EVOLUTION ALTER',\n",
       "       'EXPECATIONS NATURAL', 'GANGS PRIDE', 'HOOK CHARIOTS',\n",
       "       'JERICHO MULAN', 'JUMPING WRATH', 'ODDS BOOGIE', 'OUTLAW HANKY',\n",
       "       'RIGHT CRANES', 'SEATTLE EXPECATIONS', 'SKY MIRACLE',\n",
       "       'TROJAN TOMORROW', 'BLACKOUT PRIVATE', 'CANDIDATE PERDITION',\n",
       "       'CANDLES GRAPES', 'DIVIDE MONSTER', 'GOLDMINE TYCOON',\n",
       "       'HOCUS FRIDA', 'HOTEL HAPPINESS', 'IDENTITY LOVER',\n",
       "       'MAGNOLIA FORRESTER', 'OZ LIAISONS', 'SONS INTERVIEW',\n",
       "       'STREAK RIDGEMONT', 'VANISHED GARDEN', 'WOLVES DESIRE',\n",
       "       'YOUTH KICK', 'BLUES INSTINCT', 'CASUALTIES ENCINO',\n",
       "       'CONNECTION MICROCOSMOS', 'CROW GREASE', 'DOOM DANCING',\n",
       "       'FREEDOM CLEOPATRA', 'HAUNTED ANTITRUST', 'MOB DUFFEL',\n",
       "       'PANIC CLUB', 'PURE RUNNER', 'SEVEN SWARM', 'SPINAL ROCKY',\n",
       "       'AMERICAN CIRCUS', 'BOOGIE AMELIE', 'CITIZEN SHREK',\n",
       "       'DOUBLE WRATH', 'FICTION CHRISTMAS', 'MASSAGE IMAGE',\n",
       "       'SABRINA MIDNIGHT', 'BOULEVARD MOB', 'BRANNIGAN SUNRISE',\n",
       "       'BUCKET BROTHERHOOD', 'CRAFT OUTFIELD', 'FOOL MOCKINGBIRD',\n",
       "       'GUYS FALCON', 'LONELY ELEPHANT', 'MADISON TRAP',\n",
       "       'PITTSBURGH HUNCHBACK', 'RANGE MOONWALKER', 'SORORITY QUEEN',\n",
       "       'TEXAS WATCH', 'TRAIN BUNCH', 'TRAMP OTHERS', 'CIDER DESIRE',\n",
       "       'EFFECT GLADIATOR', 'FREDDY STORM', 'GAMES BOWFINGER',\n",
       "       'GLADIATOR WESTWARD', 'MOCKINGBIRD HOLLYWOOD', 'PILOT HOOSIERS',\n",
       "       'PRESIDENT BANG', 'SPIRIT FLINTSTONES', 'WONKA SEA',\n",
       "       'ALICE FANTASIA', 'ATLANTIS CAUSE', 'BEACH HEARTBREAKERS',\n",
       "       'DUCK RACER', 'GILMORE BOILED', 'LAMBS CINCINATTI', 'MAIDEN HOME',\n",
       "       'MIDNIGHT WESTWARD', 'NEIGHBORS CHARADE', 'NONE SPIKING',\n",
       "       'ROOM ROMAN', 'SHOOTIST SUPERFLY', 'SHRUNK DIVINE', 'SPY MILE',\n",
       "       'TELEGRAPH VOYAGE', 'WAIT CIDER', 'WIFE TURN', 'ALADDIN CALENDAR',\n",
       "       'CENTER DINOSAUR', 'CHAMBER ITALIAN', 'ENCOUNTERS CURTAIN',\n",
       "       'EXPRESS LONELY', 'HOURS RAGE', 'HUSTLER PARTY', 'JEOPARDY ENCINO',\n",
       "       'JOON NORTHWEST', 'MAGIC MALLRATS', 'MONEY HAROLD',\n",
       "       'OUTBREAK DIVINE', 'REIGN GENTLEMEN', 'SUMMER SCARFACE',\n",
       "       'BEETHOVEN EXORCIST', 'BEVERLY OUTLAW', 'BIRDS PERDITION',\n",
       "       'DUDE BLINDNESS', 'DUMBO LUST', 'FAMILY SWEET',\n",
       "       'FIREHOUSE VIETNAM', 'MATRIX SNOWMAN', 797, 'CLYDE THEORY',\n",
       "       'CRAZY HOME', 'FACTORY DRAGON', 'FERRIS MOTHER', 'GONE TROUBLE',\n",
       "       'GREEK EVERYONE', 'HOOSIERS BIRDCAGE', 'ROCKY WAR',\n",
       "       'WISDOM WORKER', 'BEHAVIOR RUNAWAY', 'CHAPLIN LICENSE',\n",
       "       'CRUSADE HONEY', 'DEEP CRUSADE', 'FEUD FROGMEN', 'FIDDLER LOST',\n",
       "       'HAROLD FRENCH', 'PACKER MADIGAN', 'PEACH INNOCENT',\n",
       "       'PEARL DESTINY', 'CHANCE RESURRECTION', 'DAUGHTER MADIGAN',\n",
       "       'DREAM PICKUP', 'FATAL HAUNTED', 'FEATHERS METAL',\n",
       "       'JUGGLER HARDLY', 'ROBBERS JOON', 'ROCK INSTINCT', 'TEEN APOLLO',\n",
       "       'TEMPLE ATTRACTION', 'WATERSHIP FRONTIER', 'WHISPERER GIANT',\n",
       "       'WRONG BEHAVIOR', 'DORADO NOTTING', 'GUNFIGHTER MUSSOLINI',\n",
       "       'KANE EXORCIST', 'LOATHING LEGALLY', 'PEAK FOREVER',\n",
       "       'REDEMPTION COMFORTS', 'SHIP WONDERLAND', 'SQUAD FISH',\n",
       "       'VOLUME HOUSE', 'BALLROOM MOCKINGBIRD', 'NASH CHOCOLAT',\n",
       "       'QUEST MUSSOLINI', 'ROCKETEER MOTHER', 'RUGRATS SHAKESPEARE',\n",
       "       'ALIEN CENTER', 'BLINDNESS GUN', 'GUN BONNIE', 'HEAVEN FREEDOM',\n",
       "       'INTOLERABLE INTENTIONS', 'MENAGERIE RUSHMORE',\n",
       "       'TALENTED HOMICIDE', 'TRUMAN CRAZY', 'VALENTINE VANISHING',\n",
       "       'WANDA CHAMBER', 'ALASKA PHANTOM', 'CARRIE BUNCH',\n",
       "       'FIREBALL PHILADELPHIA', 'INTRIGUE WORST', 'METROPOLIS COMA',\n",
       "       'PATHS CONTROL', 'STALLION SUNDANCE', 'STAMPEDE DISTURBING',\n",
       "       'UNITED PILOT', 'WATCH TRACY', 966, 'WORKING MICROCOSMOS',\n",
       "       'ANALYZE HOOSIERS', 'CLUB GRAFFITI', 'CONGENIALITY QUEST',\n",
       "       'DESIRE ALIEN', 'FRISCO FORREST', 'GENTLEMEN STAGE', 'IDAHO LOVE',\n",
       "       'IDOLS SNATCHERS', 'KISSING DOLLS', 'LEGEND JEDI', 'PURPLE MOVIE',\n",
       "       'TARZAN VIDEOTAPE', 'BILKO ANONYMOUS', 'BINGO TALENTED',\n",
       "       'COMANCHEROS ENEMY', 'DESERT POSEIDON', 'EVERYONE CRAFT',\n",
       "       'EXORCIST STING'], dtype=object)"
      ]
     },
     "execution_count": 121,
     "metadata": {},
     "output_type": "execute_result"
    }
   ],
   "source": [
    "hdd.title.unique()"
   ]
  },
  {
   "cell_type": "code",
   "execution_count": 122,
   "id": "77fea81e",
   "metadata": {},
   "outputs": [
    {
     "data": {
      "text/plain": [
       "array(['ACADEMY DINOSAUR', 'ACE GOLDFINGER', 'ADAPTATION HOLES',\n",
       "       'AFFAIR PREJUDICE', 'AFRICAN EGG', 'AGENT TRUMAN',\n",
       "       'AIRPLANE SIERRA', 'AIRPORT POLLOCK', 'ALABAMA DEVIL',\n",
       "       'ALADDIN CALENDAR', 'ALAMO VIDEOTAPE', 'ALASKA PHANTOM',\n",
       "       'ALI FOREVER', 'ALICE FANTASIA', 'ALIEN CENTER', 'ALLEY EVOLUTION',\n",
       "       'ALONE TRIP', 'ALTER VICTORY', 'AMADEUS HOLY',\n",
       "       'AMELIE HELLFIGHTERS', 'AMERICAN CIRCUS', 'AMISTAD MIDSUMMER',\n",
       "       'ANACONDA CONFESSIONS', 'ANALYZE HOOSIERS', 'ANGELS LIFE',\n",
       "       'ANNIE IDENTITY', 'ANONYMOUS HUMAN', 'ANTHEM LUKE',\n",
       "       'ANTITRUST TOMATOES', 'ANYTHING SAVANNAH', 'APACHE DIVINE',\n",
       "       'APOCALYPSE FLAMINGOS', 'APOLLO TEEN', 'ARABIA DOGMA',\n",
       "       'ARACHNOPHOBIA ROLLERCOASTER', 'ARGONAUTS TOWN', 'ARIZONA BANG',\n",
       "       'ARK RIDGEMONT', 'ARMAGEDDON LOST', 'ARMY FLINTSTONES',\n",
       "       'ARSENIC INDEPENDENCE', 'ARTIST COLDBLOODED', 'ATLANTIS CAUSE',\n",
       "       'ATTACKS HATE', 'ATTRACTION NEWTON', 'AUTUMN CROW', 'BABY HALL',\n",
       "       'BACKLASH UNDEFEATED', 'BADMAN DAWN', 'BAKED CLEOPATRA',\n",
       "       'BALLOON HOMEWARD', 'BALLROOM MOCKINGBIRD', 'BANG KWAI',\n",
       "       'BANGER PINOCCHIO', 'BARBARELLA STREETCAR', 'BAREFOOT MANCHURIAN',\n",
       "       'BASIC EASY', 'BEACH HEARTBREAKERS', 'BEAR GRACELAND',\n",
       "       'BEAST HUNCHBACK', 'BEAUTY GREASE', 'BED HIGHBALL',\n",
       "       'BEDAZZLED MARRIED', 'BEETHOVEN EXORCIST', 'BEHAVIOR RUNAWAY',\n",
       "       'BENEATH RUSH', 'BERETS AGENT', 'BETRAYED REAR', 'BEVERLY OUTLAW',\n",
       "       'BIKINI BORROWERS', 'BILKO ANONYMOUS', 'BILL OTHERS',\n",
       "       'BINGO TALENTED', 'BIRCH ANTITRUST', 'BIRD INDEPENDENCE',\n",
       "       'BIRDCAGE CASPER', 'BIRDS PERDITION', 'BLACKOUT PRIVATE',\n",
       "       'BLADE POLISH', 'BLANKET BEVERLY', 'BLINDNESS GUN',\n",
       "       'BLOOD ARGONAUTS', 'BLUES INSTINCT', 'BOILED DARES',\n",
       "       'BONNIE HOLOCAUST', 'BOOGIE AMELIE', 'BOONDOCK BALLROOM',\n",
       "       'BORN SPINAL', 'BORROWERS BEDAZZLED', 'BOULEVARD MOB',\n",
       "       'BOUND CHEAPER', 'BOWFINGER GABLES', 'BRANNIGAN SUNRISE',\n",
       "       'BRAVEHEART HUMAN', 'BREAKFAST GOLDFINGER', 'BREAKING HOME',\n",
       "       'BRIDE INTRIGUE', 'BRIGHT ENCOUNTERS', 'BRINGING HYSTERICAL',\n",
       "       'BROOKLYN DESERT', 'BROTHERHOOD BLANKET', 'BUBBLE GROSSE',\n",
       "       'BUCKET BROTHERHOOD', 'BUGSY SONG', 'BULL SHAWSHANK',\n",
       "       'BULWORTH COMMANDMENTS', 'BUNCH MINDS', 'BUTCH PANTHER',\n",
       "       'BUTTERFLY CHOCOLAT', 'CABIN FLASH', 'CADDYSHACK JEDI',\n",
       "       'CALENDAR GUNFIGHT', 'CALIFORNIA BIRDS', 'CAMELOT VACATION',\n",
       "       'CAMPUS REMEMBER', 'CANDIDATE PERDITION', 'CANDLES GRAPES',\n",
       "       'CANYON STOCK', 'CAPER MOTIONS', 'CARIBBEAN LIBERTY',\n",
       "       'CAROL TEXAS', 'CARRIE BUNCH', 'CASABLANCA SUPER',\n",
       "       'CASPER DRAGONFLY', 'CASSIDY WYOMING', 'CASUALTIES ENCINO',\n",
       "       'CAT CONEHEADS', 'CATCH AMISTAD', 'CAUSE DATE', 'CELEBRITY HORN',\n",
       "       'CENTER DINOSAUR', 'CHAINSAW UPTOWN', 'CHAMBER ITALIAN',\n",
       "       'CHAMPION FLATLINERS', 'CHANCE RESURRECTION', 'CHAPLIN LICENSE',\n",
       "       'CHARADE DUFFEL', 'CHARIOTS CONSPIRACY', 'CHASING FIGHT',\n",
       "       'CHEAPER CLYDE', 'CHICAGO NORTH', 'CHICKEN HELLFIGHTERS',\n",
       "       'CHILL LUCK', 'CHINATOWN GLADIATOR', 'CHISUM BEHAVIOR',\n",
       "       'CHITTY LOCK', 'CHOCOLAT HARRY', 'CHOCOLATE DUCK',\n",
       "       'CHRISTMAS MOONSHINE', 'CIDER DESIRE', 'CINCINATTI WHISPERER',\n",
       "       'CIRCUS YOUTH', 'CITIZEN SHREK', 'CLASH FREDDY', 'CLEOPATRA DEVIL',\n",
       "       'CLERKS ANGELS', 'CLOCKWORK PARADISE', 'CLONES PINOCCHIO',\n",
       "       'CLOSER BANG', 'CLUB GRAFFITI', 'CLUE GRAIL', 'CLUELESS BUCKET',\n",
       "       'CLYDE THEORY', 'COAST RAINBOW', 'COLDBLOODED DARLING',\n",
       "       'COLOR PHILADELPHIA', 'COMA HEAD', 'COMANCHEROS ENEMY',\n",
       "       'COMFORTS RUSH', 'COMMAND DARLING', 'COMMANDMENTS EXPRESS',\n",
       "       'CONEHEADS SMOOCHY', 'CONFESSIONS MAGUIRE',\n",
       "       'CONFIDENTIAL INTERVIEW', 'CONFUSED CANDLES', 'CONGENIALITY QUEST',\n",
       "       'CONNECTICUT TRAMP', 'CONNECTION MICROCOSMOS', 'CONQUERER NUTS',\n",
       "       'CONSPIRACY SPIRIT', 'CONTACT ANONYMOUS', 'CONTROL ANTHEM',\n",
       "       'CONVERSATION DOWNHILL', 'CORE SUIT', 'COWBOY DOOM',\n",
       "       'CRAFT OUTFIELD', 'CRANES RESERVOIR', 'CRAZY HOME',\n",
       "       'CREATURES SHAKESPEARE', 'CREEPERS KANE', 'CROOKED FROGMEN',\n",
       "       'CROSSING DIVORCE', 'CROSSROADS CASUALTIES', 'CROW GREASE',\n",
       "       'CROWDS TELEMARK', 'CRUELTY UNFORGIVEN', 'CRUSADE HONEY',\n",
       "       'CRYSTAL BREAKING', 'CUPBOARD SINNERS', 'CURTAIN VIDEOTAPE',\n",
       "       'CYCLONE FAMILY', 'DADDY PITTSBURGH', 'DAISY MENAGERIE',\n",
       "       'DALMATIONS SWEDEN', 'DANCES NONE', 'DANCING FEVER',\n",
       "       'DANGEROUS UPTOWN', 'DARES PLUTO', 'DARKNESS WAR', 'DARKO DORADO',\n",
       "       'DARLING BREAKING', 'DARN FORRESTER', 'DATE SPEED',\n",
       "       'DAUGHTER MADIGAN', 'DAWN POND', 'DAY UNFAITHFUL', 'DAZED PUNK',\n",
       "       'DECEIVER BETRAYED', 'DEEP CRUSADE', 'DEER VIRGINIAN',\n",
       "       'DELIVERANCE MULHOLLAND', 'DESERT POSEIDON', 'DESIRE ALIEN',\n",
       "       'DESPERATE TRAINSPOTTING', 'DESTINATION JERK', 'DESTINY SATURDAY',\n",
       "       'DETAILS PACKER', 'DETECTIVE VISION', 'DEVIL DESIRE',\n",
       "       'DIARY PANIC', 'DINOSAUR SECRETARY', 'DIRTY ACE',\n",
       "       'DISCIPLE MOTHER', 'DISTURBING SCARFACE', 'DIVIDE MONSTER',\n",
       "       'DIVINE RESURRECTION', 'DIVORCE SHINING', 'DOCTOR GRAIL',\n",
       "       'DOGMA FAMILY', 'DOLLS RAGE', 'DONNIE ALLEY', 'DOOM DANCING',\n",
       "       'DOORS PRESIDENT', 'DORADO NOTTING', 'DOUBLE WRATH',\n",
       "       'DOUBTFIRE LABYRINTH', 'DOWNHILL ENOUGH', 'DOZEN LION',\n",
       "       'DRACULA CRYSTAL', 'DRAGON SQUAD', 'DRAGONFLY STRANGERS',\n",
       "       'DREAM PICKUP', 'DRIFTER COMMANDMENTS', 'DRIVER ANNIE',\n",
       "       'DRIVING POLISH', 'DROP WATERFRONT', 'DRUMLINE CYCLONE',\n",
       "       'DRUMS DYNAMITE', 'DUCK RACER', 'DUDE BLINDNESS',\n",
       "       'DUFFEL APOCALYPSE', 'DUMBO LUST', 'DURHAM PANKY', 'DWARFS ALTER',\n",
       "       'DYING MAKER', 'DYNAMITE TARZAN', 'EAGLES PANKY', 'EARLY HOME',\n",
       "       'EARRING INSTINCT', 'EARTH VISION', 'EASY GLADIATOR',\n",
       "       'EDGE KISSING', 'EFFECT GLADIATOR', 'EGG IGBY', 'EGYPT TENENBAUMS',\n",
       "       'ELEMENT FREDDY', 'ELEPHANT TROJAN', 'ELF MURDER',\n",
       "       'ELIZABETH SHANE', 'EMPIRE MALKOVICH', 'ENCINO ELF',\n",
       "       'ENCOUNTERS CURTAIN', 'ENDING CROWDS', 'ENEMY ODDS',\n",
       "       'ENGLISH BULWORTH', 'ENOUGH RAGING', 'ENTRAPMENT SATISFACTION',\n",
       "       'ESCAPE METROPOLIS', 'EVE RESURRECTION', 'EVERYONE CRAFT',\n",
       "       'EVOLUTION ALTER', 'EXCITEMENT EVE', 'EXORCIST STING',\n",
       "       'EXPECATIONS NATURAL', 'EXPENDABLE STALLION', 'EXPRESS LONELY',\n",
       "       'EXTRAORDINARY CONQUERER', 'EYES DRIVING', 'FACTORY DRAGON',\n",
       "       'FALCON VOLUME', 'FAMILY SWEET', 'FANTASIA PARK',\n",
       "       'FANTASY TROOPERS', 'FARGO GANDHI', 'FATAL HAUNTED',\n",
       "       'FEATHERS METAL', 'FELLOWSHIP AUTUMN', 'FERRIS MOTHER',\n",
       "       'FEUD FROGMEN', 'FEVER EMPIRE', 'FICTION CHRISTMAS',\n",
       "       'FIDDLER LOST', 'FIDELITY DEVIL', 'FIGHT JAWBREAKER',\n",
       "       'FINDING ANACONDA', 'FIRE WOLVES', 'FIREBALL PHILADELPHIA',\n",
       "       'FIREHOUSE VIETNAM', 'FISH OPUS', 'FLAMINGOS CONNECTICUT',\n",
       "       'FLASH WARS', 'FLATLINERS KILLER', 'FLIGHT LIES',\n",
       "       'FLINTSTONES HAPPINESS', 'FLOATS GARDEN', 'FLYING HOOK',\n",
       "       'FOOL MOCKINGBIRD', 'FOREVER CANDIDATE', 'FORREST SONS',\n",
       "       'FORRESTER COMANCHEROS', 'FORWARD TEMPLE', 'FRANKENSTEIN STRANGER',\n",
       "       'FREAKY POCUS', 'FREDDY STORM', 'FREEDOM CLEOPATRA',\n",
       "       'FRENCH HOLIDAY', 'FRIDA SLIPPER', 'FRISCO FORREST',\n",
       "       'FROGMEN BREAKING', 'FRONTIER CABIN', 'FROST HEAD',\n",
       "       'FUGITIVE MAGUIRE', 'FULL FLATLINERS', 'FURY MURDER',\n",
       "       'GABLES METROPOLIS', 'GALAXY SWEETHEARTS', 'GAMES BOWFINGER',\n",
       "       'GANDHI KWAI', 'GANGS PRIDE', 'GARDEN ISLAND', 'GASLIGHT CRUSADE',\n",
       "       'GATHERING CALENDAR', 'GENTLEMEN STAGE', 'GHOST GROUNDHOG',\n",
       "       'GHOSTBUSTERS ELF', 'GIANT TROOPERS', 'GILBERT PELICAN',\n",
       "       'GILMORE BOILED', 'GLADIATOR WESTWARD', 'GLASS DYING',\n",
       "       'GLEAMING JAWBREAKER', 'GLORY TRACY', 'GO PURPLE',\n",
       "       'GODFATHER DIARY', 'GOLD RIVER', 'GOLDFINGER SENSIBILITY',\n",
       "       'GOLDMINE TYCOON', 'GONE TROUBLE', 'GOODFELLAS SALUTE',\n",
       "       'GORGEOUS BINGO', 'GOSFORD DONNIE', 'GRACELAND DYNAMITE',\n",
       "       'GRADUATE LORD', 'GRAFFITI LOVE', 'GRAIL FRANKENSTEIN',\n",
       "       'GRAPES FURY', 'GREASE YOUTH', 'GREATEST NORTH', 'GREEDY ROOTS',\n",
       "       'GREEK EVERYONE', 'GRINCH MASSAGE', 'GRIT CLOCKWORK',\n",
       "       'GROOVE FICTION', 'GROSSE WONDERFUL', 'GROUNDHOG UNCUT',\n",
       "       'GUMP DATE', 'GUN BONNIE', 'GUNFIGHT MOON', 'GUNFIGHTER MUSSOLINI',\n",
       "       'GUYS FALCON', 'HALF OUTFIELD', 'HALL CASSIDY', 'HALLOWEEN NUTS',\n",
       "       'HAMLET WISDOM', 'HANDICAP BOONDOCK', 'HANGING DEEP',\n",
       "       'HANKY OCTOBER', 'HANOVER GALAXY', 'HAPPINESS UNITED',\n",
       "       'HARDLY ROBBERS', 'HAROLD FRENCH', 'HARPER DYING', 'HARRY IDAHO',\n",
       "       'HATE HANDICAP', 'HAUNTED ANTITRUST', 'HAUNTING PIANIST',\n",
       "       'HAWK CHILL', 'HEAD STRANGER', 'HEARTBREAKERS BRIGHT',\n",
       "       'HEAVEN FREEDOM', 'HEAVENLY GUN', 'HEAVYWEIGHTS BEAST',\n",
       "       'HEDWIG ALTER', 'HELLFIGHTERS SIERRA', 'HIGH ENCINO',\n",
       "       'HIGHBALL POTTER', 'HILLS NEIGHBORS', 'HOBBIT ALIEN',\n",
       "       'HOCUS FRIDA', 'HOLES BRANNIGAN', 'HOLIDAY GAMES',\n",
       "       'HOLLOW JEOPARDY', 'HOLLYWOOD ANONYMOUS', 'HOLOCAUST HIGHBALL',\n",
       "       'HOLY TADPOLE', 'HOME PITY', 'HOMEWARD CIDER', 'HOMICIDE PEACH',\n",
       "       'HONEY TIES', 'HOOK CHARIOTS', 'HOOSIERS BIRDCAGE', 'HOPE TOOTSIE',\n",
       "       'HORN WORKING', 'HORROR REIGN', 'HOTEL HAPPINESS', 'HOURS RAGE',\n",
       "       'HOUSE DYNAMITE', 'HUMAN GRAFFITI', 'HUNCHBACK IMPOSSIBLE',\n",
       "       'HUNGER ROOF', 'HUNTER ALTER', 'HUNTING MUSKETEERS',\n",
       "       'HURRICANE AFFAIR', 'HUSTLER PARTY', 'HYDE DOCTOR',\n",
       "       'HYSTERICAL GRAIL', 'ICE CROSSING', 'IDAHO LOVE', 'IDENTITY LOVER',\n",
       "       'IDOLS SNATCHERS', 'IGBY MAKER', 'ILLUSION AMELIE',\n",
       "       'IMAGE PRINCESS', 'IMPACT ALADDIN', 'IMPOSSIBLE PREJUDICE',\n",
       "       'INCH JET', 'INDEPENDENCE HOTEL', 'INDIAN LOVE', 'INFORMER DOUBLE',\n",
       "       'INNOCENT USUAL', 'INSECTS STONE', 'INSIDER ARIZONA',\n",
       "       'INSTINCT AIRPORT', 'INTENTIONS EMPIRE', 'INTERVIEW LIAISONS',\n",
       "       'INTOLERABLE INTENTIONS', 'INTRIGUE WORST', 'INVASION CYCLONE',\n",
       "       'IRON MOON', 'ISHTAR ROCKETEER', 'ISLAND EXORCIST',\n",
       "       'ITALIAN AFRICAN', 'JACKET FRISCO', 'JADE BUNCH', 'JAPANESE RUN',\n",
       "       'JASON TRAP', 'JAWBREAKER BROOKLYN', 'JAWS HARRY', 'JEDI BENEATH',\n",
       "       'JEEPERS WEDDING', 'JEKYLL FROGMEN', 'JEOPARDY ENCINO',\n",
       "       'JERICHO MULAN', 'JERK PAYCHECK', 'JERSEY SASSY', 'JET NEIGHBORS',\n",
       "       'JINGLE SAGEBRUSH', 'JOON NORTHWEST', 'JUGGLER HARDLY',\n",
       "       'JUMANJI BLADE', 'JUMPING WRATH', 'JUNGLE CLOSER', 'KANE EXORCIST',\n",
       "       'KARATE MOON', 'KENTUCKIAN GIANT', 'KICK SAVANNAH',\n",
       "       'KILL BROTHERHOOD', 'KILLER INNOCENT', 'KING EVOLUTION',\n",
       "       'KISS GLORY', 'KISSING DOLLS', 'KNOCK WARLOCK', 'KRAMER CHOCOLATE',\n",
       "       'KWAI HOMEWARD', 'LABYRINTH LEAGUE', 'LADY STAGE',\n",
       "       'LADYBUGS ARMAGEDDON', 'LAMBS CINCINATTI', 'LANGUAGE COWBOY',\n",
       "       'LAWLESS VISION', 'LAWRENCE LOVE', 'LEAGUE HELLFIGHTERS',\n",
       "       'LEATHERNECKS DWARFS', 'LEBOWSKI SOLDIERS', 'LEGALLY SECRETARY',\n",
       "       'LEGEND JEDI', 'LESSON CLEOPATRA', 'LIAISONS SWEET',\n",
       "       'LIBERTY MAGNIFICENT', 'LICENSE WEEKEND', 'LIES TREATMENT',\n",
       "       'LIFE TWISTED', 'LIGHTS DEER', 'LION UNCUT', 'LOATHING LEGALLY',\n",
       "       'LOCK REAR', 'LOLA AGENT', 'LOLITA WORLD', 'LONELY ELEPHANT',\n",
       "       'LORD ARIZONA', 'LOSE INCH', 'LOSER HUSTLER', 'LOST BIRD',\n",
       "       'LOUISIANA HARRY', 'LOVE SUICIDES', 'LOVELY JINGLE',\n",
       "       'LOVER TRUMAN', 'LOVERBOY ATTACKS', 'LUCK OPUS', 'LUCKY FLYING',\n",
       "       'LUKE MUMMY', 'LUST LOCK', 'MADIGAN DORADO', 'MADISON TRAP',\n",
       "       'MADNESS ATTACKS', 'MADRE GABLES', 'MAGIC MALLRATS',\n",
       "       'MAGNIFICENT CHITTY', 'MAGNOLIA FORRESTER', 'MAGUIRE APACHE',\n",
       "       'MAIDEN HOME', 'MAJESTIC FLOATS', 'MAKER GABLES', 'MALKOVICH PET',\n",
       "       'MALLRATS UNITED', 'MALTESE HOPE', 'MANCHURIAN CURTAIN',\n",
       "       'MANNEQUIN WORST', 'MARRIED GO', 'MARS ROMAN', 'MASK PEACH',\n",
       "       'MASKED BUBBLE', 'MASSACRE USUAL', 'MASSAGE IMAGE',\n",
       "       'MATRIX SNOWMAN', 'MAUDE MOD', 'MEET CHOCOLATE',\n",
       "       'MEMENTO ZOOLANDER', 'MENAGERIE RUSHMORE', 'MERMAID INSECTS',\n",
       "       'METAL ARMAGEDDON', 'METROPOLIS COMA', 'MICROCOSMOS PARADISE',\n",
       "       'MIDNIGHT WESTWARD', 'MIDSUMMER GROUNDHOG', 'MIGHTY LUCK',\n",
       "       'MILE MULAN', 'MILLION ACE', 'MINDS TRUMAN', 'MINE TITANS',\n",
       "       'MINORITY KISS', 'MIRACLE VIRTUAL', 'MISSION ZOOLANDER',\n",
       "       'MIXED DOORS', 'MOB DUFFEL', 'MOCKINGBIRD HOLLYWOOD',\n",
       "       'MOD SECRETARY', 'MODEL FISH', 'MODERN DORADO', 'MONEY HAROLD',\n",
       "       'MONSOON CAUSE', 'MONSTER SPARTACUS', 'MONTEREY LABYRINTH',\n",
       "       'MONTEZUMA COMMAND', 'MOON BUNCH', 'MOONSHINE CABIN',\n",
       "       'MOONWALKER FOOL', 'MOSQUITO ARMAGEDDON', 'MOTHER OLEANDER',\n",
       "       'MOTIONS DETAILS', 'MOULIN WAKE', 'MOURNING PURPLE',\n",
       "       'MOVIE SHAKESPEARE', 'MULAN MOON', 'MULHOLLAND BEAST',\n",
       "       'MUMMY CREATURES', 'MUPPET MILE', 'MURDER ANTITRUST',\n",
       "       'MUSCLE BRIGHT', 'MUSIC BOONDOCK', 'MUSKETEERS WAIT',\n",
       "       'MUSSOLINI SPOILERS', 'MYSTIC TRUMAN', 'NAME DETECTIVE',\n",
       "       'NASH CHOCOLAT', 'NATIONAL STORY', 'NATURAL STOCK',\n",
       "       'NECKLACE OUTBREAK', 'NEIGHBORS CHARADE', 'NEMO CAMPUS',\n",
       "       'NETWORK PEAK', 'NEWSIES STORY', 'NEWTON LABYRINTH',\n",
       "       'NIGHTMARE CHILL', 'NONE SPIKING', 'NOON PAPI', 'NORTH TEQUILA',\n",
       "       'NORTHWEST POLISH', 'NOTORIOUS REUNION', 'NOTTING SPEAKEASY',\n",
       "       'NOVOCAINE FLIGHT', 'NUTS TIES', 'OCTOBER SUBMARINE',\n",
       "       'ODDS BOOGIE', 'OKLAHOMA JUMANJI', 'OLEANDER CLUE', 'OPEN AFRICAN',\n",
       "       'OPERATION OPERATION', 'OPPOSITE NECKLACE', 'OPUS ICE',\n",
       "       'ORANGE GRAPES', 'ORDER BETRAYED', 'ORIENT CLOSER', 'OSCAR GOLD',\n",
       "       'OTHERS SOUP', 'OUTBREAK DIVINE', 'OUTFIELD MASSACRE',\n",
       "       'OUTLAW HANKY', 'OZ LIAISONS', 'PACIFIC AMISTAD', 'PACKER MADIGAN',\n",
       "       'PAJAMA JAWBREAKER', 'PANIC CLUB', 'PANKY SUBMARINE',\n",
       "       'PANTHER REDS', 'PAPI NECKLACE', 'PARADISE SABRINA',\n",
       "       'PARIS WEEKEND', 'PARK CITIZEN', 'PARTY KNOCK', 'PAST SUICIDES',\n",
       "       'PATHS CONTROL', 'PATIENT SISTER', 'PATRIOT ROMAN',\n",
       "       'PATTON INTERVIEW', 'PAYCHECK WAIT', 'PEACH INNOCENT',\n",
       "       'PEAK FOREVER', 'PEARL DESTINY', 'PELICAN COMFORTS',\n",
       "       'PERDITION FARGO', 'PERFECT GROOVE', 'PERSONAL LADYBUGS',\n",
       "       'PET HAUNTING', 'PHANTOM GLORY', 'PHILADELPHIA WIFE',\n",
       "       'PIANIST OUTFIELD', 'PICKUP DRIVING', 'PILOT HOOSIERS',\n",
       "       'PINOCCHIO SIMON', 'PIRATES ROXANNE', 'PITTSBURGH HUNCHBACK',\n",
       "       'PITY BOUND', 'PIZZA JUMANJI', 'PLATOON INSTINCT',\n",
       "       'PLUTO OLEANDER', 'POCUS PULP', 'POLISH BROOKLYN',\n",
       "       'POLLOCK DELIVERANCE', 'POND SEATTLE', 'POSEIDON FOREVER',\n",
       "       'POTLUCK MIXED', 'POTTER CONNECTICUT', 'PREJUDICE OLEANDER',\n",
       "       'PRESIDENT BANG', 'PRIDE ALAMO', 'PRIMARY GLASS', 'PRINCESS GIANT',\n",
       "       'PRIVATE DROP', 'PRIX UNDEFEATED', 'PSYCHO SHRUNK', 'PULP BEVERLY',\n",
       "       'PUNK DIVORCE', 'PURE RUNNER', 'PURPLE MOVIE', 'QUEEN LUKE',\n",
       "       'QUEST MUSSOLINI', 'QUILLS BULL', 'RACER EGG', 'RAGE GAMES',\n",
       "       'RAGING AIRPLANE', 'RAIDERS ANTITRUST', 'RAINBOW SHOCK',\n",
       "       'RANDOM GO', 'RANGE MOONWALKER', 'REAP UNFAITHFUL', 'REAR TRADING',\n",
       "       'REBEL AIRPORT', 'RECORDS ZORRO', 'REDEMPTION COMFORTS',\n",
       "       'REDS POCUS', 'REEF SALUTE', 'REIGN GENTLEMEN', 'REMEMBER DIARY',\n",
       "       'REQUIEM TYCOON', 'RESERVOIR ADAPTATION', 'RESURRECTION SILVERADO',\n",
       "       'REUNION WITCHES', 'RIDER CADDYSHACK', 'RIDGEMONT SUBMARINE',\n",
       "       'RIGHT CRANES', 'RINGS HEARTBREAKERS', 'RIVER OUTLAW',\n",
       "       'ROAD ROXANNE', 'ROBBERS JOON', 'ROBBERY BRIGHT', 'ROCK INSTINCT',\n",
       "       'ROCKETEER MOTHER', 'ROCKY WAR', 'ROLLERCOASTER BRINGING',\n",
       "       'ROMAN PUNK', 'ROOF CHAMPION', 'ROOM ROMAN', 'ROOTS REMEMBER',\n",
       "       'ROSES TREASURE', 'ROUGE SQUAD', 'ROXANNE REBEL',\n",
       "       'RUGRATS SHAKESPEARE', 'RULES HUMAN', 'RUN PACIFIC',\n",
       "       'RUNAWAY TENENBAUMS', 'RUNNER MADIGAN', 'RUSH GOODFELLAS',\n",
       "       'RUSHMORE MERMAID', 'SABRINA MIDNIGHT', 'SADDLE ANTITRUST',\n",
       "       'SAGEBRUSH CLUELESS', 'SAINTS BRIDE', 'SALUTE APOLLO',\n",
       "       'SAMURAI LION', 'SANTA PARIS', 'SASSY PACKER',\n",
       "       'SATISFACTION CONFIDENTIAL', 'SATURDAY LAMBS', 'SATURN NAME',\n",
       "       'SAVANNAH TOWN', 'SCALAWAG DUCK', 'SCARFACE BANG', 'SCHOOL JACKET',\n",
       "       'SCISSORHANDS SLUMS', 'SCORPION APOLLO', 'SEA VIRGIN',\n",
       "       'SEABISCUIT PUNK', 'SEARCHERS WAIT', 'SEATTLE EXPECATIONS',\n",
       "       'SECRET GROUNDHOG', 'SECRETARY ROUGE', 'SECRETS PARADISE',\n",
       "       'SENSE GREEK', 'SENSIBILITY REAR', 'SEVEN SWARM',\n",
       "       'SHAKESPEARE SADDLE', 'SHANE DARKNESS', 'SHANGHAI TYCOON',\n",
       "       'SHAWSHANK BUBBLE', 'SHEPHERD MIDSUMMER', 'SHINING ROSES',\n",
       "       'SHIP WONDERLAND', 'SHOCK CABIN', 'SHOOTIST SUPERFLY', 'SHOW LORD',\n",
       "       'SHREK LICENSE', 'SHRUNK DIVINE', 'SIDE ARK', 'SIEGE MADRE',\n",
       "       'SIERRA DIVIDE', 'SILENCE KANE', 'SILVERADO GOLDFINGER',\n",
       "       'SIMON NORTH', 'SINNERS ATLANTIS', 'SISTER FREDDY', 'SKY MIRACLE',\n",
       "       'SLACKER LIAISONS', 'SLEEPING SUSPECTS', 'SLEEPLESS MONSOON',\n",
       "       'SLEEPY JAPANESE', 'SLEUTH ORIENT', 'SLING LUKE',\n",
       "       'SLIPPER FIDELITY', 'SLUMS DUCK', 'SMILE EARRING',\n",
       "       'SMOKING BARBARELLA', 'SMOOCHY CONTROL', 'SNATCH SLIPPER',\n",
       "       'SNATCHERS MONTEZUMA', 'SNOWMAN ROLLERCOASTER',\n",
       "       'SOLDIERS EVOLUTION', 'SOMETHING DUCK', 'SONG HEDWIG',\n",
       "       'SONS INTERVIEW', 'SORORITY QUEEN', 'SOUP WISDOM', 'SOUTH WAIT',\n",
       "       'SPARTACUS CHEAPER', 'SPEAKEASY DATE', 'SPEED SUIT',\n",
       "       'SPICE SORORITY', 'SPIKING ELEMENT', 'SPINAL ROCKY',\n",
       "       'SPIRIT FLINTSTONES', 'SPIRITED CASUALTIES', 'SPLASH GUMP',\n",
       "       'SPLENDOR PATTON', 'SPOILERS HELLFIGHTERS', 'SPY MILE',\n",
       "       'SQUAD FISH', 'STAGE WORLD', 'STAGECOACH ARMAGEDDON',\n",
       "       'STALLION SUNDANCE', 'STAMPEDE DISTURBING', 'STAR OPERATION',\n",
       "       'STATE WASTELAND', 'STEEL SANTA', 'STEERS ARMAGEDDON',\n",
       "       'STEPMOM DREAM', 'STING PERSONAL', 'STOCK GLASS', 'STONE FIRE',\n",
       "       'STORM HAPPINESS', 'STORY SIDE', 'STRAIGHT HOURS',\n",
       "       'STRANGELOVE DESIRE', 'STRANGER STRANGERS', 'STRANGERS GRAFFITI',\n",
       "       'STREAK RIDGEMONT', 'STREETCAR INTENTIONS', 'STRICTLY SCARFACE',\n",
       "       'SUBMARINE BED', 'SUGAR WONKA', 'SUICIDES SILENCE', 'SUIT WALLS',\n",
       "       'SUMMER SCARFACE', 'SUN CONFESSIONS', 'SUNDANCE INVASION',\n",
       "       'SUNRISE LEAGUE', 'SUNSET RACER', 'SUPER WYOMING', 'SUPERFLY TRIP',\n",
       "       'SUSPECTS QUILLS', 'SWARM GOLD', 'SWEDEN SHINING',\n",
       "       'SWEET BROTHERHOOD', 'SWEETHEARTS SUSPECTS', 'TADPOLE PARK',\n",
       "       'TALENTED HOMICIDE', 'TARZAN VIDEOTAPE', 'TAXI KICK',\n",
       "       'TEEN APOLLO', 'TELEGRAPH VOYAGE', 'TELEMARK HEARTBREAKERS',\n",
       "       'TEMPLE ATTRACTION', 'TENENBAUMS COMMAND', 'TEQUILA PAST',\n",
       "       'TERMINATOR CLUB', 'TEXAS WATCH', 'THEORY MERMAID',\n",
       "       'THIEF PELICAN', 'THIN SAGEBRUSH', 'TIES HUNGER', 'TIGHTS DAWN',\n",
       "       'TIMBERLAND SKY', 'TITANIC BOONDOCK', 'TITANS JERK',\n",
       "       'TOMATOES HELLFIGHTERS', 'TOMORROW HUSTLER', 'TOOTSIE PILOT',\n",
       "       'TORQUE BOUND', 'TOURIST PELICAN', 'TOWERS HURRICANE', 'TOWN ARK',\n",
       "       'TRACY CIDER', 'TRADING PINOCCHIO', 'TRAFFIC HOBBIT',\n",
       "       'TRAIN BUNCH', 'TRAINSPOTTING STRANGERS', 'TRAMP OTHERS',\n",
       "       'TRANSLATION SUMMER', 'TRAP GUYS', 'TREASURE COMMAND',\n",
       "       'TREATMENT JEKYLL', 'TRIP NEWTON', 'TROJAN TOMORROW',\n",
       "       'TROOPERS METAL', 'TROUBLE DATE', 'TRUMAN CRAZY', 'TURN STAR',\n",
       "       'TUXEDO MILE', 'TWISTED PIRATES', 'TYCOON GATHERING',\n",
       "       'UNBREAKABLE KARATE', 'UNCUT SUICIDES', 'UNDEFEATED DALMATIONS',\n",
       "       'UNFAITHFUL KILL', 'UNFORGIVEN ZOOLANDER', 'UNITED PILOT',\n",
       "       'UNTOUCHABLES SUNRISE', 'UPRISING UPTOWN', 'UPTOWN YOUNG',\n",
       "       'USUAL UNTOUCHABLES', 'VACATION BOONDOCK', 'VALENTINE VANISHING',\n",
       "       'VALLEY PACKER', 'VAMPIRE WHALE', 'VANILLA DAY', 'VANISHED GARDEN',\n",
       "       'VANISHING ROCKY', 'VARSITY TRIP', 'VELVET TERMINATOR',\n",
       "       'VERTIGO NORTHWEST', 'VICTORY ACADEMY', 'VIDEOTAPE ARSENIC',\n",
       "       'VIETNAM SMOOCHY', 'VILLAIN DESPERATE', 'VIRGIN DAISY',\n",
       "       'VIRGINIAN PLUTO', 'VIRTUAL SPOILERS', 'VISION TORQUE',\n",
       "       'VOICE PEACH', 'VOLCANO TEXAS', 'VOLUME HOUSE', 'VOYAGE LEGALLY',\n",
       "       'WAGON JAWS', 'WAIT CIDER', 'WAKE JAWS', 'WALLS ARTIST',\n",
       "       'WANDA CHAMBER', 'WAR NOTTING', 'WARDROBE PHANTOM',\n",
       "       'WARLOCK WEREWOLF', 'WARS PLUTO', 'WASH HEAVENLY',\n",
       "       'WASTELAND DIVINE', 'WATCH TRACY', 'WATERFRONT DELIVERANCE',\n",
       "       'WATERSHIP FRONTIER', 'WEDDING APOLLO', 'WEEKEND PERSONAL',\n",
       "       'WEREWOLF LOLA', 'WEST LION', 'WESTWARD SEABISCUIT',\n",
       "       'WHALE BIKINI', 'WHISPERER GIANT', 'WIFE TURN', 'WILD APOLLO',\n",
       "       'WILLOW TRACY', 'WIND PHANTOM', 'WINDOW SIDE', 'WISDOM WORKER',\n",
       "       'WITCHES PANIC', 'WIZARD COLDBLOODED', 'WOLVES DESIRE',\n",
       "       'WOMEN DORADO', 'WON DARES', 'WONDERFUL DROP',\n",
       "       'WONDERLAND CHRISTMAS', 'WONKA SEA', 'WORDS HUNTER',\n",
       "       'WORKER TARZAN', 'WORKING MICROCOSMOS', 'WORLD LEATHERNECKS',\n",
       "       'WORST BANGER', 'WRATH MILE', 'WRONG BEHAVIOR', 'WYOMING STORM',\n",
       "       'YENTL IDAHO', 'YOUNG LANGUAGE', 'YOUTH KICK', 'ZHIVAGO CORE',\n",
       "       'ZOOLANDER FICTION', 'ZORRO ARK'], dtype=object)"
      ]
     },
     "execution_count": 122,
     "metadata": {},
     "output_type": "execute_result"
    }
   ],
   "source": [
    "film.title.unique()"
   ]
  },
  {
   "cell_type": "code",
   "execution_count": 126,
   "id": "0196aaa1",
   "metadata": {},
   "outputs": [
    {
     "name": "stdout",
     "output_type": "stream",
     "text": [
      "False:  387\n",
      "True:  613\n"
     ]
    }
   ],
   "source": [
    "true=0\n",
    "false=0\n",
    "\n",
    "for e in film.title:\n",
    "    \n",
    "    if e in hdd.title.unique():\n",
    "        \n",
    "        true +=1\n",
    "        \n",
    "    else: false +=1\n",
    "        \n",
    "print('False: ', false )\n",
    "print('True: ', true )"
   ]
  },
  {
   "cell_type": "code",
   "execution_count": 124,
   "id": "a3a073cf",
   "metadata": {},
   "outputs": [
    {
     "name": "stdout",
     "output_type": "stream",
     "text": [
      "<class 'pandas.core.frame.DataFrame'>\n",
      "RangeIndex: 1000 entries, 0 to 999\n",
      "Data columns (total 12 columns):\n",
      " #   Column                Non-Null Count  Dtype  \n",
      "---  ------                --------------  -----  \n",
      " 0   film_id               1000 non-null   int64  \n",
      " 1   title                 1000 non-null   object \n",
      " 2   description           1000 non-null   object \n",
      " 3   release_year          1000 non-null   int64  \n",
      " 4   language_id           1000 non-null   int64  \n",
      " 5   original_language_id  0 non-null      float64\n",
      " 6   rental_duration       1000 non-null   int64  \n",
      " 7   rental_rate           1000 non-null   float64\n",
      " 8   length                1000 non-null   int64  \n",
      " 9   replacement_cost      1000 non-null   float64\n",
      " 10  rating                1000 non-null   object \n",
      " 11  special_features      1000 non-null   object \n",
      "dtypes: float64(3), int64(5), object(4)\n",
      "memory usage: 93.9+ KB\n"
     ]
    }
   ],
   "source": [
    "film.info()"
   ]
  },
  {
   "cell_type": "code",
   "execution_count": 125,
   "id": "f9f52c91",
   "metadata": {},
   "outputs": [
    {
     "name": "stdout",
     "output_type": "stream",
     "text": [
      "<class 'pandas.core.frame.DataFrame'>\n",
      "RangeIndex: 1000 entries, 0 to 999\n",
      "Data columns (total 5 columns):\n",
      " #   Column        Non-Null Count  Dtype \n",
      "---  ------        --------------  ----- \n",
      " 0   first_name    1000 non-null   object\n",
      " 1   last_name     1000 non-null   object\n",
      " 2   title         1000 non-null   object\n",
      " 3   release_year  1000 non-null   int64 \n",
      " 4   category_id   1000 non-null   int64 \n",
      "dtypes: int64(2), object(3)\n",
      "memory usage: 39.2+ KB\n"
     ]
    }
   ],
   "source": [
    "hdd.info()"
   ]
  },
  {
   "cell_type": "code",
   "execution_count": 127,
   "id": "287f742e",
   "metadata": {},
   "outputs": [
    {
     "data": {
      "text/html": [
       "<div>\n",
       "<style scoped>\n",
       "    .dataframe tbody tr th:only-of-type {\n",
       "        vertical-align: middle;\n",
       "    }\n",
       "\n",
       "    .dataframe tbody tr th {\n",
       "        vertical-align: top;\n",
       "    }\n",
       "\n",
       "    .dataframe thead th {\n",
       "        text-align: right;\n",
       "    }\n",
       "</style>\n",
       "<table border=\"1\" class=\"dataframe\">\n",
       "  <thead>\n",
       "    <tr style=\"text-align: right;\">\n",
       "      <th></th>\n",
       "      <th>rental_id</th>\n",
       "      <th>rental_date</th>\n",
       "      <th>inventory_id</th>\n",
       "      <th>customer_id</th>\n",
       "      <th>return_date</th>\n",
       "      <th>staff_id</th>\n",
       "      <th>last_update</th>\n",
       "    </tr>\n",
       "  </thead>\n",
       "  <tbody>\n",
       "    <tr>\n",
       "      <th>0</th>\n",
       "      <td>1</td>\n",
       "      <td>2005-05-24 22:53:30</td>\n",
       "      <td>367</td>\n",
       "      <td>130</td>\n",
       "      <td>2005-05-26 22:04:30</td>\n",
       "      <td>1</td>\n",
       "      <td>2006-02-15 21:30:53</td>\n",
       "    </tr>\n",
       "    <tr>\n",
       "      <th>1</th>\n",
       "      <td>2</td>\n",
       "      <td>2005-05-24 22:54:33</td>\n",
       "      <td>1525</td>\n",
       "      <td>459</td>\n",
       "      <td>2005-05-28 19:40:33</td>\n",
       "      <td>1</td>\n",
       "      <td>2006-02-15 21:30:53</td>\n",
       "    </tr>\n",
       "    <tr>\n",
       "      <th>2</th>\n",
       "      <td>3</td>\n",
       "      <td>2005-05-24 23:03:39</td>\n",
       "      <td>1711</td>\n",
       "      <td>408</td>\n",
       "      <td>2005-06-01 22:12:39</td>\n",
       "      <td>1</td>\n",
       "      <td>2006-02-15 21:30:53</td>\n",
       "    </tr>\n",
       "    <tr>\n",
       "      <th>3</th>\n",
       "      <td>4</td>\n",
       "      <td>2005-05-24 23:04:41</td>\n",
       "      <td>2452</td>\n",
       "      <td>333</td>\n",
       "      <td>2005-06-03 01:43:41</td>\n",
       "      <td>2</td>\n",
       "      <td>2006-02-15 21:30:53</td>\n",
       "    </tr>\n",
       "    <tr>\n",
       "      <th>4</th>\n",
       "      <td>5</td>\n",
       "      <td>2005-05-24 23:05:21</td>\n",
       "      <td>2079</td>\n",
       "      <td>222</td>\n",
       "      <td>2005-06-02 04:33:21</td>\n",
       "      <td>1</td>\n",
       "      <td>2006-02-15 21:30:53</td>\n",
       "    </tr>\n",
       "  </tbody>\n",
       "</table>\n",
       "</div>"
      ],
      "text/plain": [
       "   rental_id          rental_date  inventory_id  customer_id  \\\n",
       "0          1  2005-05-24 22:53:30           367          130   \n",
       "1          2  2005-05-24 22:54:33          1525          459   \n",
       "2          3  2005-05-24 23:03:39          1711          408   \n",
       "3          4  2005-05-24 23:04:41          2452          333   \n",
       "4          5  2005-05-24 23:05:21          2079          222   \n",
       "\n",
       "           return_date  staff_id          last_update  \n",
       "0  2005-05-26 22:04:30         1  2006-02-15 21:30:53  \n",
       "1  2005-05-28 19:40:33         1  2006-02-15 21:30:53  \n",
       "2  2005-06-01 22:12:39         1  2006-02-15 21:30:53  \n",
       "3  2005-06-03 01:43:41         2  2006-02-15 21:30:53  \n",
       "4  2005-06-02 04:33:21         1  2006-02-15 21:30:53  "
      ]
     },
     "execution_count": 127,
     "metadata": {},
     "output_type": "execute_result"
    }
   ],
   "source": [
    "rental.head()"
   ]
  },
  {
   "cell_type": "code",
   "execution_count": null,
   "id": "8a90382a",
   "metadata": {},
   "outputs": [],
   "source": []
  },
  {
   "cell_type": "code",
   "execution_count": null,
   "id": "4ea38cf5",
   "metadata": {},
   "outputs": [],
   "source": []
  }
 ],
 "metadata": {
  "kernelspec": {
   "display_name": "Python 3 (ipykernel)",
   "language": "python",
   "name": "python3"
  },
  "language_info": {
   "codemirror_mode": {
    "name": "ipython",
    "version": 3
   },
   "file_extension": ".py",
   "mimetype": "text/x-python",
   "name": "python",
   "nbconvert_exporter": "python",
   "pygments_lexer": "ipython3",
   "version": "3.9.13"
  }
 },
 "nbformat": 4,
 "nbformat_minor": 5
}
