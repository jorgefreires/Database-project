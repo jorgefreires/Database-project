{
 "cells": [
  {
   "cell_type": "code",
   "execution_count": 1,
   "id": "80f33655",
   "metadata": {},
   "outputs": [],
   "source": [
    "# Librerias y configuración\n",
    "\n",
    "import pandas as pd\n",
    "\n",
    "pd.set_option('display.max_columns', None)\n",
    "pd.set_option('display.max_rows', None)\n",
    "\n",
    "import warnings\n",
    "warnings.filterwarnings('ignore')"
   ]
  },
  {
   "cell_type": "code",
   "execution_count": 2,
   "id": "142d877c",
   "metadata": {},
   "outputs": [],
   "source": [
    "# DataFrames\n",
    "\n",
    "actor = pd.read_csv('../data_messy/actor.csv')\n",
    "category = pd.read_csv('../data_messy/category.csv')\n",
    "film = pd.read_csv('../data_messy/film.csv')\n",
    "inventory = pd.read_csv('../data_messy/inventory.csv')\n",
    "language = pd.read_csv('../data_messy/language.csv')\n",
    "hdd = pd.read_csv('../data_messy/old_HDD.csv')\n",
    "rental = pd.read_csv('../data_messy/rental.csv')"
   ]
  },
  {
   "cell_type": "markdown",
   "id": "9ccf9cff",
   "metadata": {},
   "source": [
    "# Estructura deseada para la base de datos\n",
    "\n",
    "<img src=\"../images/Estructura_database.png\">"
   ]
  },
  {
   "cell_type": "markdown",
   "id": "4ae43b1f",
   "metadata": {},
   "source": [
    "## film - hdd - actor - category\n",
    "\n",
    "Film asume los valores de category para sí y se conecta a actor mediante hdd. f"
   ]
  },
  {
   "cell_type": "code",
   "execution_count": 3,
   "id": "686ff2b8",
   "metadata": {},
   "outputs": [
    {
     "name": "stdout",
     "output_type": "stream",
     "text": [
      "<class 'pandas.core.frame.DataFrame'>\n",
      "RangeIndex: 1000 entries, 0 to 999\n",
      "Data columns (total 13 columns):\n",
      " #   Column                Non-Null Count  Dtype  \n",
      "---  ------                --------------  -----  \n",
      " 0   film_id               1000 non-null   int64  \n",
      " 1   title                 1000 non-null   object \n",
      " 2   description           1000 non-null   object \n",
      " 3   release_year          1000 non-null   int64  \n",
      " 4   language_id           1000 non-null   int64  \n",
      " 5   original_language_id  0 non-null      float64\n",
      " 6   rental_duration       1000 non-null   int64  \n",
      " 7   rental_rate           1000 non-null   float64\n",
      " 8   length                1000 non-null   int64  \n",
      " 9   replacement_cost      1000 non-null   float64\n",
      " 10  rating                1000 non-null   object \n",
      " 11  special_features      1000 non-null   object \n",
      " 12  last_update           1000 non-null   object \n",
      "dtypes: float64(3), int64(5), object(5)\n",
      "memory usage: 101.7+ KB\n"
     ]
    }
   ],
   "source": [
    "film.info()"
   ]
  },
  {
   "cell_type": "code",
   "execution_count": 4,
   "id": "6a0cbef6",
   "metadata": {},
   "outputs": [],
   "source": [
    "# Se borran las columnas que no se quieren\n",
    "\n",
    "film.drop('original_language_id', axis = 1, inplace=True)\n",
    "film.drop('last_update', axis = 1, inplace=True)  "
   ]
  },
  {
   "cell_type": "code",
   "execution_count": 5,
   "id": "0386ff82",
   "metadata": {},
   "outputs": [
    {
     "name": "stdout",
     "output_type": "stream",
     "text": [
      "<class 'pandas.core.frame.DataFrame'>\n",
      "RangeIndex: 1000 entries, 0 to 999\n",
      "Data columns (total 5 columns):\n",
      " #   Column        Non-Null Count  Dtype \n",
      "---  ------        --------------  ----- \n",
      " 0   first_name    1000 non-null   object\n",
      " 1   last_name     1000 non-null   object\n",
      " 2   title         1000 non-null   object\n",
      " 3   release_year  1000 non-null   int64 \n",
      " 4   category_id   1000 non-null   int64 \n",
      "dtypes: int64(2), object(3)\n",
      "memory usage: 39.2+ KB\n"
     ]
    }
   ],
   "source": [
    "# Se une la columna category y se conecta con actor a través de hdd\n",
    "\n",
    "hdd.info()"
   ]
  },
  {
   "cell_type": "code",
   "execution_count": 6,
   "id": "5ea4d9e1",
   "metadata": {},
   "outputs": [],
   "source": [
    "hdd['name'] = hdd.first_name + ' ' + hdd.last_name\n",
    "\n",
    "hdd.drop(['release_year', 'first_name', 'last_name'], axis = 1, inplace=True) "
   ]
  },
  {
   "cell_type": "code",
   "execution_count": 7,
   "id": "abb7f1b6",
   "metadata": {},
   "outputs": [],
   "source": [
    "hdd.rename(columns={'name': 'actor'}, inplace=True)"
   ]
  },
  {
   "cell_type": "code",
   "execution_count": 8,
   "id": "0e0a77aa",
   "metadata": {},
   "outputs": [
    {
     "name": "stdout",
     "output_type": "stream",
     "text": [
      "<class 'pandas.core.frame.DataFrame'>\n",
      "Int64Index: 1386 entries, 0 to 1385\n",
      "Data columns (total 14 columns):\n",
      " #   Column            Non-Null Count  Dtype  \n",
      "---  ------            --------------  -----  \n",
      " 0   film_id           1386 non-null   int64  \n",
      " 1   title             1386 non-null   object \n",
      " 2   description       1386 non-null   object \n",
      " 3   release_year      1386 non-null   int64  \n",
      " 4   language_id       1386 non-null   int64  \n",
      " 5   rental_duration   1386 non-null   int64  \n",
      " 6   rental_rate       1386 non-null   float64\n",
      " 7   length            1386 non-null   int64  \n",
      " 8   replacement_cost  1386 non-null   float64\n",
      " 9   rating            1386 non-null   object \n",
      " 10  special_features  1386 non-null   object \n",
      " 11  category_id       1000 non-null   float64\n",
      " 12  actor             1000 non-null   object \n",
      " 13  name              1000 non-null   object \n",
      "dtypes: float64(3), int64(5), object(6)\n",
      "memory usage: 162.4+ KB\n"
     ]
    }
   ],
   "source": [
    "category.drop('last_update', axis = 1, inplace=True) \n",
    "\n",
    "hdd = pd.merge(hdd, category, on='category_id')\n",
    "\n",
    "film = pd.merge(film, hdd, on='title', how='left')\n",
    "\n",
    "film.info()"
   ]
  },
  {
   "cell_type": "code",
   "execution_count": 9,
   "id": "c79d6513",
   "metadata": {},
   "outputs": [
    {
     "data": {
      "text/html": [
       "<div>\n",
       "<style scoped>\n",
       "    .dataframe tbody tr th:only-of-type {\n",
       "        vertical-align: middle;\n",
       "    }\n",
       "\n",
       "    .dataframe tbody tr th {\n",
       "        vertical-align: top;\n",
       "    }\n",
       "\n",
       "    .dataframe thead th {\n",
       "        text-align: right;\n",
       "    }\n",
       "</style>\n",
       "<table border=\"1\" class=\"dataframe\">\n",
       "  <thead>\n",
       "    <tr style=\"text-align: right;\">\n",
       "      <th></th>\n",
       "      <th>film_id</th>\n",
       "      <th>title</th>\n",
       "      <th>description</th>\n",
       "      <th>release_year</th>\n",
       "      <th>language_id</th>\n",
       "      <th>rental_duration</th>\n",
       "      <th>rental_rate</th>\n",
       "      <th>length</th>\n",
       "      <th>cost</th>\n",
       "      <th>rating</th>\n",
       "      <th>special_features</th>\n",
       "      <th>category</th>\n",
       "    </tr>\n",
       "  </thead>\n",
       "  <tbody>\n",
       "    <tr>\n",
       "      <th>0</th>\n",
       "      <td>1</td>\n",
       "      <td>ACADEMY DINOSAUR</td>\n",
       "      <td>A Epic Drama of a Feminist And a Mad Scientist...</td>\n",
       "      <td>2006</td>\n",
       "      <td>1</td>\n",
       "      <td>6</td>\n",
       "      <td>0.99</td>\n",
       "      <td>86</td>\n",
       "      <td>20.99</td>\n",
       "      <td>PG</td>\n",
       "      <td>Deleted Scenes,Behind the Scenes</td>\n",
       "      <td>Documentary</td>\n",
       "    </tr>\n",
       "    <tr>\n",
       "      <th>4</th>\n",
       "      <td>2</td>\n",
       "      <td>ACE GOLDFINGER</td>\n",
       "      <td>A Astounding Epistle of a Database Administrat...</td>\n",
       "      <td>2006</td>\n",
       "      <td>1</td>\n",
       "      <td>3</td>\n",
       "      <td>4.99</td>\n",
       "      <td>48</td>\n",
       "      <td>12.99</td>\n",
       "      <td>G</td>\n",
       "      <td>Trailers,Deleted Scenes</td>\n",
       "      <td>Horror</td>\n",
       "    </tr>\n",
       "    <tr>\n",
       "      <th>5</th>\n",
       "      <td>3</td>\n",
       "      <td>ADAPTATION HOLES</td>\n",
       "      <td>A Astounding Reflection of a Lumberjack And a ...</td>\n",
       "      <td>2006</td>\n",
       "      <td>1</td>\n",
       "      <td>7</td>\n",
       "      <td>2.99</td>\n",
       "      <td>50</td>\n",
       "      <td>18.99</td>\n",
       "      <td>NC-17</td>\n",
       "      <td>Trailers,Deleted Scenes</td>\n",
       "      <td>Documentary</td>\n",
       "    </tr>\n",
       "    <tr>\n",
       "      <th>8</th>\n",
       "      <td>4</td>\n",
       "      <td>AFFAIR PREJUDICE</td>\n",
       "      <td>A Fanciful Documentary of a Frisbee And a Lumb...</td>\n",
       "      <td>2006</td>\n",
       "      <td>1</td>\n",
       "      <td>5</td>\n",
       "      <td>2.99</td>\n",
       "      <td>117</td>\n",
       "      <td>26.99</td>\n",
       "      <td>G</td>\n",
       "      <td>Commentaries,Behind the Scenes</td>\n",
       "      <td>NaN</td>\n",
       "    </tr>\n",
       "    <tr>\n",
       "      <th>9</th>\n",
       "      <td>5</td>\n",
       "      <td>AFRICAN EGG</td>\n",
       "      <td>A Fast-Paced Documentary of a Pastry Chef And ...</td>\n",
       "      <td>2006</td>\n",
       "      <td>1</td>\n",
       "      <td>6</td>\n",
       "      <td>2.99</td>\n",
       "      <td>130</td>\n",
       "      <td>22.99</td>\n",
       "      <td>G</td>\n",
       "      <td>Deleted Scenes</td>\n",
       "      <td>NaN</td>\n",
       "    </tr>\n",
       "  </tbody>\n",
       "</table>\n",
       "</div>"
      ],
      "text/plain": [
       "   film_id             title  \\\n",
       "0        1  ACADEMY DINOSAUR   \n",
       "4        2    ACE GOLDFINGER   \n",
       "5        3  ADAPTATION HOLES   \n",
       "8        4  AFFAIR PREJUDICE   \n",
       "9        5       AFRICAN EGG   \n",
       "\n",
       "                                         description  release_year  \\\n",
       "0  A Epic Drama of a Feminist And a Mad Scientist...          2006   \n",
       "4  A Astounding Epistle of a Database Administrat...          2006   \n",
       "5  A Astounding Reflection of a Lumberjack And a ...          2006   \n",
       "8  A Fanciful Documentary of a Frisbee And a Lumb...          2006   \n",
       "9  A Fast-Paced Documentary of a Pastry Chef And ...          2006   \n",
       "\n",
       "   language_id  rental_duration  rental_rate  length   cost rating  \\\n",
       "0            1                6         0.99      86  20.99     PG   \n",
       "4            1                3         4.99      48  12.99      G   \n",
       "5            1                7         2.99      50  18.99  NC-17   \n",
       "8            1                5         2.99     117  26.99      G   \n",
       "9            1                6         2.99     130  22.99      G   \n",
       "\n",
       "                   special_features     category  \n",
       "0  Deleted Scenes,Behind the Scenes  Documentary  \n",
       "4           Trailers,Deleted Scenes       Horror  \n",
       "5           Trailers,Deleted Scenes  Documentary  \n",
       "8    Commentaries,Behind the Scenes          NaN  \n",
       "9                    Deleted Scenes          NaN  "
      ]
     },
     "execution_count": 9,
     "metadata": {},
     "output_type": "execute_result"
    }
   ],
   "source": [
    "hdd = pd.merge(hdd, film[['category_id', 'film_id']], on='category_id')    # Para posteriormente poder hacer la conexión con actor\n",
    "\n",
    "film.drop(['category_id', 'actor'], axis = 1, inplace=True) \n",
    "\n",
    "film.rename(columns={'name': 'category', 'replacement_cost': 'cost'}, inplace=True)\n",
    "\n",
    "film.drop_duplicates(inplace=True)\n",
    "\n",
    "film.head()"
   ]
  },
  {
   "cell_type": "code",
   "execution_count": 10,
   "id": "26926f30",
   "metadata": {},
   "outputs": [
    {
     "name": "stdout",
     "output_type": "stream",
     "text": [
      "<class 'pandas.core.frame.DataFrame'>\n",
      "Int64Index: 64638 entries, 0 to 64637\n",
      "Data columns (total 5 columns):\n",
      " #   Column       Non-Null Count  Dtype \n",
      "---  ------       --------------  ----- \n",
      " 0   title        64638 non-null  object\n",
      " 1   category_id  64638 non-null  int64 \n",
      " 2   actor        64638 non-null  object\n",
      " 3   name         64638 non-null  object\n",
      " 4   film_id      64638 non-null  int64 \n",
      "dtypes: int64(2), object(3)\n",
      "memory usage: 3.0+ MB\n"
     ]
    }
   ],
   "source": [
    "hdd.info()"
   ]
  },
  {
   "cell_type": "code",
   "execution_count": 11,
   "id": "f8045045",
   "metadata": {},
   "outputs": [
    {
     "data": {
      "text/html": [
       "<div>\n",
       "<style scoped>\n",
       "    .dataframe tbody tr th:only-of-type {\n",
       "        vertical-align: middle;\n",
       "    }\n",
       "\n",
       "    .dataframe tbody tr th {\n",
       "        vertical-align: top;\n",
       "    }\n",
       "\n",
       "    .dataframe thead th {\n",
       "        text-align: right;\n",
       "    }\n",
       "</style>\n",
       "<table border=\"1\" class=\"dataframe\">\n",
       "  <thead>\n",
       "    <tr style=\"text-align: right;\">\n",
       "      <th></th>\n",
       "      <th>actor</th>\n",
       "      <th>film_id</th>\n",
       "    </tr>\n",
       "  </thead>\n",
       "  <tbody>\n",
       "    <tr>\n",
       "      <th>0</th>\n",
       "      <td>PENELOPE GUINESS</td>\n",
       "      <td>1</td>\n",
       "    </tr>\n",
       "    <tr>\n",
       "      <th>1</th>\n",
       "      <td>PENELOPE GUINESS</td>\n",
       "      <td>1</td>\n",
       "    </tr>\n",
       "    <tr>\n",
       "      <th>2</th>\n",
       "      <td>PENELOPE GUINESS</td>\n",
       "      <td>1</td>\n",
       "    </tr>\n",
       "    <tr>\n",
       "      <th>3</th>\n",
       "      <td>PENELOPE GUINESS</td>\n",
       "      <td>1</td>\n",
       "    </tr>\n",
       "    <tr>\n",
       "      <th>4</th>\n",
       "      <td>PENELOPE GUINESS</td>\n",
       "      <td>3</td>\n",
       "    </tr>\n",
       "  </tbody>\n",
       "</table>\n",
       "</div>"
      ],
      "text/plain": [
       "              actor  film_id\n",
       "0  PENELOPE GUINESS        1\n",
       "1  PENELOPE GUINESS        1\n",
       "2  PENELOPE GUINESS        1\n",
       "3  PENELOPE GUINESS        1\n",
       "4  PENELOPE GUINESS        3"
      ]
     },
     "execution_count": 11,
     "metadata": {},
     "output_type": "execute_result"
    }
   ],
   "source": [
    "hdd.drop(['title', 'category_id', 'name'], axis = 1, inplace=True) \n",
    "\n",
    "hdd.head()"
   ]
  },
  {
   "cell_type": "code",
   "execution_count": 12,
   "id": "f127352c",
   "metadata": {},
   "outputs": [],
   "source": [
    "# Ahora se cambia actor por el actor_id"
   ]
  },
  {
   "cell_type": "code",
   "execution_count": 13,
   "id": "46d80202",
   "metadata": {},
   "outputs": [
    {
     "name": "stdout",
     "output_type": "stream",
     "text": [
      "<class 'pandas.core.frame.DataFrame'>\n",
      "RangeIndex: 200 entries, 0 to 199\n",
      "Data columns (total 4 columns):\n",
      " #   Column       Non-Null Count  Dtype \n",
      "---  ------       --------------  ----- \n",
      " 0   actor_id     200 non-null    int64 \n",
      " 1   first_name   200 non-null    object\n",
      " 2   last_name    200 non-null    object\n",
      " 3   last_update  200 non-null    object\n",
      "dtypes: int64(1), object(3)\n",
      "memory usage: 6.4+ KB\n"
     ]
    }
   ],
   "source": [
    "actor.info()"
   ]
  },
  {
   "cell_type": "code",
   "execution_count": 14,
   "id": "bade6248",
   "metadata": {},
   "outputs": [
    {
     "name": "stdout",
     "output_type": "stream",
     "text": [
      "<class 'pandas.core.frame.DataFrame'>\n",
      "Int64Index: 64638 entries, 0 to 64637\n",
      "Data columns (total 3 columns):\n",
      " #   Column    Non-Null Count  Dtype \n",
      "---  ------    --------------  ----- \n",
      " 0   actor     64638 non-null  object\n",
      " 1   film_id   64638 non-null  int64 \n",
      " 2   actor_id  64638 non-null  int64 \n",
      "dtypes: int64(2), object(1)\n",
      "memory usage: 2.0+ MB\n"
     ]
    }
   ],
   "source": [
    "actor['actor'] = actor.first_name + ' ' + actor.last_name\n",
    "\n",
    "actor.drop(['first_name', 'last_name', 'last_update'], axis = 1, inplace=True) \n",
    "\n",
    "hdd = pd.merge(hdd, actor, on='actor')\n",
    "\n",
    "hdd.info()"
   ]
  },
  {
   "cell_type": "code",
   "execution_count": 15,
   "id": "bb7dc646",
   "metadata": {},
   "outputs": [],
   "source": [
    "hdd.drop(['actor'], axis = 1, inplace=True)\n",
    "\n",
    "actor.rename(columns={'actor': 'name'}, inplace=True)"
   ]
  },
  {
   "cell_type": "code",
   "execution_count": 16,
   "id": "6e5fa30b",
   "metadata": {},
   "outputs": [
    {
     "name": "stdout",
     "output_type": "stream",
     "text": [
      "<class 'pandas.core.frame.DataFrame'>\n",
      "RangeIndex: 200 entries, 0 to 199\n",
      "Data columns (total 2 columns):\n",
      " #   Column    Non-Null Count  Dtype \n",
      "---  ------    --------------  ----- \n",
      " 0   actor_id  200 non-null    int64 \n",
      " 1   name      200 non-null    object\n",
      "dtypes: int64(1), object(1)\n",
      "memory usage: 3.2+ KB\n"
     ]
    }
   ],
   "source": [
    "actor.info()"
   ]
  },
  {
   "cell_type": "code",
   "execution_count": 17,
   "id": "b98ccfbe",
   "metadata": {},
   "outputs": [],
   "source": [
    "# se guardan los csv limpios\n",
    "\n",
    "film.to_csv('../data/film.csv', index=False)\n",
    "actor.to_csv('../data/actor.csv', index=False)\n",
    "hdd.to_csv('../data/film_to_actor.csv', index=False)"
   ]
  },
  {
   "cell_type": "markdown",
   "id": "3bd02696",
   "metadata": {},
   "source": [
    "## language\n",
    "\n",
    "Da los valores a film."
   ]
  },
  {
   "cell_type": "code",
   "execution_count": 18,
   "id": "d427c168",
   "metadata": {},
   "outputs": [
    {
     "name": "stdout",
     "output_type": "stream",
     "text": [
      "<class 'pandas.core.frame.DataFrame'>\n",
      "RangeIndex: 6 entries, 0 to 5\n",
      "Data columns (total 3 columns):\n",
      " #   Column       Non-Null Count  Dtype \n",
      "---  ------       --------------  ----- \n",
      " 0   language_id  6 non-null      int64 \n",
      " 1   name         6 non-null      object\n",
      " 2   last_update  6 non-null      object\n",
      "dtypes: int64(1), object(2)\n",
      "memory usage: 272.0+ bytes\n"
     ]
    }
   ],
   "source": [
    "language.info()"
   ]
  },
  {
   "cell_type": "code",
   "execution_count": 19,
   "id": "06053cbf",
   "metadata": {},
   "outputs": [],
   "source": [
    "language.drop('last_update', axis=1, inplace=True)"
   ]
  },
  {
   "cell_type": "code",
   "execution_count": 20,
   "id": "e40f9d8d",
   "metadata": {},
   "outputs": [
    {
     "name": "stdout",
     "output_type": "stream",
     "text": [
      "<class 'pandas.core.frame.DataFrame'>\n",
      "RangeIndex: 6 entries, 0 to 5\n",
      "Data columns (total 2 columns):\n",
      " #   Column       Non-Null Count  Dtype \n",
      "---  ------       --------------  ----- \n",
      " 0   language_id  6 non-null      int64 \n",
      " 1   name         6 non-null      object\n",
      "dtypes: int64(1), object(1)\n",
      "memory usage: 224.0+ bytes\n"
     ]
    }
   ],
   "source": [
    "language.info()"
   ]
  },
  {
   "cell_type": "code",
   "execution_count": 21,
   "id": "b386d520",
   "metadata": {},
   "outputs": [],
   "source": [
    "# se guarda el csv limpios\n",
    "\n",
    "language.to_csv('../data/language.csv', index=False)"
   ]
  },
  {
   "cell_type": "markdown",
   "id": "bfff7342",
   "metadata": {},
   "source": [
    "## Inventory - Rental\n",
    "\n",
    "Rental se queda vacio, pues el nuevo videoclub aun no ha abierto. Inventory se conecta por un lado a films y por otro a rental, dado que lo que se rentan son los dvds como objeto físico. "
   ]
  },
  {
   "cell_type": "code",
   "execution_count": 22,
   "id": "60592325",
   "metadata": {},
   "outputs": [
    {
     "name": "stdout",
     "output_type": "stream",
     "text": [
      "<class 'pandas.core.frame.DataFrame'>\n",
      "RangeIndex: 1000 entries, 0 to 999\n",
      "Data columns (total 4 columns):\n",
      " #   Column        Non-Null Count  Dtype \n",
      "---  ------        --------------  ----- \n",
      " 0   inventory_id  1000 non-null   int64 \n",
      " 1   film_id       1000 non-null   int64 \n",
      " 2   store_id      1000 non-null   int64 \n",
      " 3   last_update   1000 non-null   object\n",
      "dtypes: int64(3), object(1)\n",
      "memory usage: 31.4+ KB\n"
     ]
    }
   ],
   "source": [
    "inventory.info()"
   ]
  },
  {
   "cell_type": "code",
   "execution_count": 23,
   "id": "0acd40aa",
   "metadata": {},
   "outputs": [],
   "source": [
    "inventory.drop(['store_id','last_update'], axis=1, inplace=True)"
   ]
  },
  {
   "cell_type": "code",
   "execution_count": 24,
   "id": "b2d4b348",
   "metadata": {},
   "outputs": [],
   "source": [
    "# se guardan los csv limpios\n",
    "\n",
    "inventory.to_csv('../data/inventory.csv', index=False)"
   ]
  }
 ],
 "metadata": {
  "kernelspec": {
   "display_name": "Python 3 (ipykernel)",
   "language": "python",
   "name": "python3"
  },
  "language_info": {
   "codemirror_mode": {
    "name": "ipython",
    "version": 3
   },
   "file_extension": ".py",
   "mimetype": "text/x-python",
   "name": "python",
   "nbconvert_exporter": "python",
   "pygments_lexer": "ipython3",
   "version": "3.9.13"
  }
 },
 "nbformat": 4,
 "nbformat_minor": 5
}
